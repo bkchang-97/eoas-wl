{
 "cells": [
  {
   "cell_type": "code",
   "execution_count": 4,
   "metadata": {},
   "outputs": [],
   "source": [
    "from canvasapi import Canvas\n",
    "import pdb\n",
    "import json\n",
    "from pathlib import Path\n",
    "import os"
   ]
  },
  {
   "cell_type": "code",
   "execution_count": 5,
   "metadata": {},
   "outputs": [],
   "source": [
    "API_URL = \n",
    "API_KEY =\n",
    "\n",
    "canvas = Canvas(API_URL, API_KEY)"
   ]
  },
  {
   "cell_type": "code",
   "execution_count": 6,
   "metadata": {},
   "outputs": [],
   "source": [
    "ahl = canvas.get_course(51824)\n",
    "cs103 = canvas.get_course(48359) #this is for a CPSC 103 class (testing on actual class)"
   ]
  },
  {
   "cell_type": "code",
   "execution_count": 7,
   "metadata": {},
   "outputs": [
    {
     "data": {
      "text/plain": [
       "'CPSC 103 V01 Introduction to Systematic Program Design'"
      ]
     },
     "execution_count": 7,
     "metadata": {},
     "output_type": "execute_result"
    }
   ],
   "source": [
    "ahl.name\n",
    "cs103.name"
   ]
  },
  {
   "cell_type": "code",
   "execution_count": 9,
   "metadata": {},
   "outputs": [],
   "source": [
    "ahl_folders = ahl.get_folders()\n",
    "ahl_files = ahl_folders[0].get_files()"
   ]
  },
  {
   "cell_type": "code",
   "execution_count": 11,
   "metadata": {},
   "outputs": [],
   "source": [
    "def module_items(course):\n",
    "    \"\"\"\n",
    "    Given a list of modules return a list of dictionaries of all module items\n",
    "    \"\"\"\n",
    "    outlist=dict()\n",
    "    for module in course.get_modules():\n",
    "        outlist[module.id]=dict(name=module.name,items=[])\n",
    "        items=module.get_module_items()\n",
    "        for an_item in items:\n",
    "            outlist[module.id]['items'].append((an_item.title, an_item.id))\n",
    "    return outlist"
   ]
  },
  {
   "cell_type": "code",
   "execution_count": 12,
   "metadata": {},
   "outputs": [],
   "source": [
    "def get_assignments(course):\n",
    "    acc = []\n",
    "    for a in course.get_assignments():\n",
    "        acc.append((a.name, a.id))\n",
    "    return acc"
   ]
  },
  {
   "cell_type": "code",
   "execution_count": 13,
   "metadata": {},
   "outputs": [],
   "source": [
    "def get_files(course):\n",
    "    output = {}\n",
    "    for folder in course.get_folders():\n",
    "        output[folder.id] = dict(name = folder.name, files = [])\n",
    "        items = folder.get_files()\n",
    "        for item in items:\n",
    "            output[folder.id]['files'].append((item.display_name, item.id))\n",
    "    return output"
   ]
  },
  {
   "cell_type": "code",
   "execution_count": 19,
   "metadata": {},
   "outputs": [
    {
     "data": {
      "text/plain": [
       "{1622549: {'name': '209368', 'files': [('flower.jpg', 8844344)]},\n",
       " 1651087: {'name': '217166', 'files': []},\n",
       " 1651104: {'name': '217167', 'files': []},\n",
       " 1651107: {'name': '217169', 'files': []},\n",
       " 1652358: {'name': '217196', 'files': [('captcha.png', 9023775)]},\n",
       " 1651151: {'name': '217196', 'files': [('captcha.png', 8978496)]},\n",
       " 1651895: {'name': '217407', 'files': [('flower.jpg', 8989616)]},\n",
       " 1656606: {'name': '219031', 'files': [('captcha.png', 9029161)]},\n",
       " 1909079: {'name': '262287', 'files': [('captcha.png', 10034553)]},\n",
       " 1909081: {'name': '262288', 'files': [('captcha.png', 10034558)]},\n",
       " 1909085: {'name': '262289', 'files': [('captcha.png', 10034575)]},\n",
       " 1909087: {'name': '262290', 'files': [('captcha.png', 10034587)]},\n",
       " 1941195: {'name': '265519', 'files': [('captcha.png', 10244051)]},\n",
       " 1941201: {'name': '265521', 'files': [('captcha.png', 10244110)]},\n",
       " 1941222: {'name': '265523', 'files': [('captcha.png', 10244310)]},\n",
       " 1941228: {'name': '265524', 'files': [('flower.jpg', 10244384)]},\n",
       " 1942257: {'name': '265655', 'files': [('captcha.png', 10250537)]},\n",
       " 1960481: {'name': '268089', 'files': [('flower.jpg', 10417195)]},\n",
       " 1980171: {'name': '270979', 'files': []},\n",
       " 1980172: {'name': '270980', 'files': [('captcha.png', 10627846)]},\n",
       " 1980173: {'name': '270981', 'files': [('captcha.png', 10627850)]},\n",
       " 1980182: {'name': '270982', 'files': [('captcha.png', 10627909)]},\n",
       " 1980185: {'name': '270983', 'files': [('captcha.png', 10627914)]},\n",
       " 1980186: {'name': '270984', 'files': [('captcha.png', 10627920)]},\n",
       " 1980187: {'name': '270985', 'files': [('captcha.png', 10627922)]},\n",
       " 1980189: {'name': '270986', 'files': [('captcha.png', 10627931)]},\n",
       " 1980190: {'name': '270987', 'files': [('captcha.png', 10627933)]},\n",
       " 1980192: {'name': '270988', 'files': [('captcha.png', 10627942)]},\n",
       " 1980196: {'name': '270989', 'files': [('captcha.png', 10627976)]},\n",
       " 1980212: {'name': '270992', 'files': [('captcha.png', 10628091)]},\n",
       " 1983904: {'name': '271639', 'files': [('captcha.png', 10674077)]},\n",
       " 1983936: {'name': '271647', 'files': [('captcha.png', 10674342)]},\n",
       " 1984527: {'name': '271722', 'files': [('captcha.png', 10680638)]},\n",
       " 1984757: {'name': '271762', 'files': [('captcha.png', 10683581)]},\n",
       " 2007042: {'name': '276035', 'files': []},\n",
       " 2007046: {'name': '276038', 'files': []},\n",
       " 2051896: {'name': '284880', 'files': [('flower.jpg', 11670567)]},\n",
       " 2051897: {'name': '284881', 'files': [('flower.jpg', 11670569)]},\n",
       " 2051899: {'name': '284882', 'files': []},\n",
       " 1652357: {'name': 'M2C Quiz Media', 'files': []},\n",
       " 1622303: {'name': 'M2C Quiz Media', 'files': []},\n",
       " 1523429: {'name': 'Quiz Files', 'files': []},\n",
       " 1569718: {'name': 'Test_120485', 'files': []},\n",
       " 1652355: {'name': 'andrew-and-harlan-sandbox-quiz-export_128385',\n",
       "  'files': []},\n",
       " 1506427: {'name': 'course files', 'files': [('flower.jpg', 8785089)]},\n",
       " 1524001: {'name': 'data', 'files': []},\n",
       " 1523431: {'name': 'data', 'files': []},\n",
       " 1553380: {'name': 'data', 'files': []},\n",
       " 1561752: {'name': 'data', 'files': []},\n",
       " 1559763: {'name': 'data', 'files': []},\n",
       " 1524666: {'name': 'data', 'files': []},\n",
       " 1559777: {'name': 'data', 'files': []},\n",
       " 1559767: {'name': 'data', 'files': []},\n",
       " 1569719: {'name': 'data', 'files': []},\n",
       " 1524030: {'name': 'data', 'files': []},\n",
       " 1561810: {'name': 'data', 'files': []},\n",
       " 1524173: {'name': 'data', 'files': []},\n",
       " 1561819: {'name': 'data', 'files': []},\n",
       " 1553399: {'name': 'data', 'files': []},\n",
       " 1561820: {'name': 'supplements1',\n",
       "  'files': [('unnamed-chunk-2-1.png', 8396331)]},\n",
       " 1524174: {'name': 'supplements1', 'files': [('pic.PNG', 8199698)]},\n",
       " 1523432: {'name': 'supplements1',\n",
       "  'files': [('banana.png', 8197601),\n",
       "   ('orange.png', 8197602),\n",
       "   ('pineapple.png', 8197603)]},\n",
       " 1524002: {'name': 'supplements1',\n",
       "  'files': [('banana.png', 8199308),\n",
       "   ('orange.png', 8199309),\n",
       "   ('pineapple.png', 8199310)]},\n",
       " 1524031: {'name': 'supplements1',\n",
       "  'files': [('banana.png', 8199367),\n",
       "   ('orange.png', 8199368),\n",
       "   ('pineapple.png', 8199369)]},\n",
       " 1524667: {'name': 'supplements1', 'files': [('pic.PNG', 8201396)]},\n",
       " 1553381: {'name': 'supplements1', 'files': [('scatterplot-1.png', 8325060)]},\n",
       " 1553400: {'name': 'supplements1', 'files': [('scatterplot-1.png', 8325266)]},\n",
       " 1559764: {'name': 'supplements1', 'files': [('pic.PNG', 8377789)]},\n",
       " 1559768: {'name': 'supplements1', 'files': [('scatterplot-1.png', 8377799)]},\n",
       " 1559778: {'name': 'supplements1', 'files': [('scatterplot-1.png', 8377886)]},\n",
       " 1561753: {'name': 'supplements1',\n",
       "  'files': [('unnamed-chunk-4-1.png', 8395581)]},\n",
       " 1561811: {'name': 'supplements1',\n",
       "  'files': [('unnamed-chunk-2-1.png', 8396264)]},\n",
       " 1569720: {'name': 'supplements1',\n",
       "  'files': [('unnamed-chunk-2-1.png', 8470610)]},\n",
       " 1569721: {'name': 'supplements2', 'files': [('pic.PNG', 8470611)]},\n",
       " 1652356: {'name': 'unfiled', 'files': []},\n",
       " 1622302: {'name': 'unfiled', 'files': [('chain.h', 13299938)]},\n",
       " 1561751: {'name': 'withPlotPy_118831', 'files': []},\n",
       " 1561809: {'name': 'withPlotPy_118834', 'files': []},\n",
       " 1561818: {'name': 'withPlotPy_118836', 'files': []},\n",
       " 1553379: {'name': 'withPlot_118076', 'files': []},\n",
       " 1553398: {'name': 'withPlot_118077', 'files': []},\n",
       " 1559766: {'name': 'withPlot_118623', 'files': []},\n",
       " 1559776: {'name': 'withPlot_118625', 'files': []},\n",
       " 1559762: {'name': 'withpictures_118621', 'files': []},\n",
       " 1523430: {'name': 'withpictures_99638', 'files': []},\n",
       " 1524000: {'name': 'withpictures_99649', 'files': []},\n",
       " 1524029: {'name': 'withpictures_99651', 'files': []},\n",
       " 1524172: {'name': 'withpictures_99652', 'files': []},\n",
       " 1524665: {'name': 'withpictures_99698', 'files': []}}"
      ]
     },
     "execution_count": 19,
     "metadata": {},
     "output_type": "execute_result"
    }
   ],
   "source": [
    "get_files(ahl)"
   ]
  }
 ],
 "metadata": {
  "kernelspec": {
   "display_name": "Python 3",
   "language": "python",
   "name": "python3"
  },
  "language_info": {
   "codemirror_mode": {
    "name": "ipython",
    "version": 3
   },
   "file_extension": ".py",
   "mimetype": "text/x-python",
   "name": "python",
   "nbconvert_exporter": "python",
   "pygments_lexer": "ipython3",
   "version": "3.8.6"
  }
 },
 "nbformat": 4,
 "nbformat_minor": 4
}
