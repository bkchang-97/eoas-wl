{
 "cells": [
  {
   "cell_type": "code",
   "execution_count": null,
   "metadata": {
    "ctype": "question",
    "quesnum": 0
   },
   "outputs": [],
   "source": [
    "import markdown\n",
    "from bs4 import BeautifulSoup\n",
    "html = markdown.markdown(open(\"Day02_Systems_2019t2_allslides.md\").read())\n",
    "text = (\"\".join(BeautifulSoup(html).findAll(text=True)))"
   ]
  },
  {
   "cell_type": "markdown",
   "metadata": {
    "ctype": "answer",
    "quesnum": 0
   },
   "source": [
    "q0 answer here"
   ]
  },
  {
   "cell_type": "code",
   "execution_count": null,
   "metadata": {
    "ctype": "question",
    "quesnum": 1
   },
   "outputs": [],
   "source": [
    "type(text)"
   ]
  },
  {
   "cell_type": "markdown",
   "metadata": {
    "ctype": "answer",
    "quesnum": 1
   },
   "source": [
    "q1 answer here"
   ]
  },
  {
   "cell_type": "code",
   "execution_count": null,
   "metadata": {
    "ctype": "question",
    "quesnum": 2
   },
   "outputs": [],
   "source": [
    "slides = text.split(\"Slide \")"
   ]
  },
  {
   "cell_type": "markdown",
   "metadata": {
    "ctype": "answer",
    "quesnum": 2
   },
   "source": [
    "q2 answer here"
   ]
  },
  {
   "cell_type": "code",
   "execution_count": null,
   "metadata": {
    "ctype": "question",
    "quesnum": 3
   },
   "outputs": [],
   "source": [
    "slides[1:]"
   ]
  },
  {
   "cell_type": "markdown",
   "metadata": {
    "ctype": "answer",
    "quesnum": 3
   },
   "source": [
    "q3 answer here"
   ]
  },
  {
   "cell_type": "code",
   "execution_count": null,
   "metadata": {
    "ctype": "question",
    "quesnum": 4
   },
   "outputs": [],
   "source": [
    "clickers = [x for x in slides if \"Clicker\" in x]"
   ]
  },
  {
   "cell_type": "markdown",
   "metadata": {
    "ctype": "answer",
    "quesnum": 4
   },
   "source": [
    "q4 answer here"
   ]
  },
  {
   "cell_type": "code",
   "execution_count": null,
   "metadata": {
    "ctype": "question",
    "quesnum": 5
   },
   "outputs": [],
   "source": [
    "clickers"
   ]
  },
  {
   "cell_type": "markdown",
   "metadata": {
    "ctype": "answer",
    "quesnum": 5
   },
   "source": [
    "q5 answer here"
   ]
  },
  {
   "cell_type": "code",
   "execution_count": null,
   "metadata": {
    "ctype": "question",
    "quesnum": 6
   },
   "outputs": [],
   "source": []
  },
  {
   "cell_type": "markdown",
   "metadata": {
    "ctype": "answer",
    "quesnum": 6
   },
   "source": [
    "q6 answer here"
   ]
  }
 ],
 "metadata": {
  "kernelspec": {
   "display_name": "Python 3",
   "language": "python",
   "name": "python3"
  }
 },
 "nbformat": 4,
 "nbformat_minor": 4
}
