{
 "cells": [
  {
   "cell_type": "markdown",
   "metadata": {
    "ctype": "question",
    "quesnum": 0
   },
   "source": [
    "# Slide 27\n",
    "```\n",
    "\n",
    "CLICKER: Earth’s radiation balance\n",
    "28\n",
    "If the distance between the Earth and the Sun doubles\n",
    "AND\n",
    "the radius of the Earth shrinks to half its current value,\n",
    "how will the amount of radiation per unit area (W/m2) received at the surface of the Earth change?\n",
    "A. Decreases by a factor of 2\n",
    "B. Decreases by a factor of 4\n",
    "C. Decreases by a factor of 8\n",
    "D. Decreases by a factor of 16\n",
    "\n",
    "```\n",
    "\n"
   ]
  },
  {
   "cell_type": "markdown",
   "metadata": {
    "ctype": "answer",
    "quesnum": 0
   },
   "source": [
    "q0 answer here"
   ]
  },
  {
   "cell_type": "markdown",
   "metadata": {
    "ctype": "question",
    "quesnum": 1
   },
   "source": [
    "# Slide 28\n",
    "```\n",
    "\n",
    "CLICKER: Heating rates? \n",
    "At what rate does this atmosphere (the area between the lines) heat up (+) or cool down (-)?\n",
    "29\n",
    "-10 Wm-2\n",
    "-20 Wm-2\n",
    "+20 Wm-2\n",
    "+50 Wm-2\n",
    "+70 Wm-2\n",
    "\n",
    "```\n",
    "\n"
   ]
  },
  {
   "cell_type": "markdown",
   "metadata": {
    "ctype": "answer",
    "quesnum": 1
   },
   "source": [
    "q1 answer here"
   ]
  },
  {
   "cell_type": "markdown",
   "metadata": {
    "ctype": "question",
    "quesnum": 2
   },
   "source": [
    "# Slide 34\n",
    "```\n",
    "\n",
    "NASA\n",
    "CLICKER: What if the forest expanded into the desert area (and nothing else changed)?\n",
    "Reflectivity would _______.\n",
    "NASA\n",
    "A. Increase       B. Decrease       C. Stay the same\n",
    "35\n",
    "\n",
    "```\n",
    "\n"
   ]
  },
  {
   "cell_type": "markdown",
   "metadata": {
    "ctype": "answer",
    "quesnum": 2
   },
   "source": [
    "q2 answer here"
   ]
  },
  {
   "cell_type": "markdown",
   "metadata": {
    "ctype": "question",
    "quesnum": 3
   },
   "source": [
    "# Slide 35\n",
    "```\n",
    "\n",
    "NASA\n",
    "CLICKER: What if sea level rose (and nothing else changed)? Reflectivity would _______.\n",
    "NASA\n",
    "A. Increase       B. Decrease       C. Stay the same\n",
    "36\n",
    "\n",
    "```\n",
    "\n"
   ]
  },
  {
   "cell_type": "markdown",
   "metadata": {
    "ctype": "answer",
    "quesnum": 3
   },
   "source": [
    "q3 answer here"
   ]
  },
  {
   "cell_type": "markdown",
   "metadata": {
    "ctype": "question",
    "quesnum": 4
   },
   "source": [
    "# Slide 39\n",
    "```\n",
    "\n",
    "CLICKER: What if sunspots change incoming solar radiation?\n",
    "A. Forcing        B. Feedback        C. Could be either\n",
    "40\n",
    "\n",
    "```\n",
    "\n"
   ]
  },
  {
   "cell_type": "markdown",
   "metadata": {
    "ctype": "answer",
    "quesnum": 4
   },
   "source": [
    "q4 answer here"
   ]
  },
  {
   "cell_type": "markdown",
   "metadata": {
    "ctype": "question",
    "quesnum": 5
   },
   "source": [
    "# Slide 40\n",
    "```\n",
    "\n",
    "CLICKER: What if ice on Earth’s surface melts?\n",
    "A. Forcing        B. Feedback        C. Could be either\n",
    "41\n",
    "\n",
    "```\n",
    "\n"
   ]
  },
  {
   "cell_type": "markdown",
   "metadata": {
    "ctype": "answer",
    "quesnum": 5
   },
   "source": [
    "q5 answer here"
   ]
  },
  {
   "cell_type": "markdown",
   "metadata": {
    "ctype": "question",
    "quesnum": 6
   },
   "source": [
    "# Slide 41\n",
    "```\n",
    "\n",
    "CLICKER: What if coal-burning increases sulfate aerosols?\n",
    "A. Forcing        B. Feedback        C. Could be either\n",
    "42\n",
    "\n",
    "```\n",
    "\n"
   ]
  },
  {
   "cell_type": "markdown",
   "metadata": {
    "ctype": "answer",
    "quesnum": 6
   },
   "source": [
    "q6 answer here"
   ]
  },
  {
   "cell_type": "markdown",
   "metadata": {
    "ctype": "question",
    "quesnum": 7
   },
   "source": [
    "# Slide 43\n",
    "```\n",
    "\n",
    "CLICKER:  Clouds are involved in several different feedbacks.  Is this one amplifying or stabilizing?\n",
    "Warming\n",
    "More \n",
    "water in a warmer atmosphere\n",
    "Greater cloud low cover\n",
    "Greater reflectivity\n",
    "?\n",
    "Perturbation\n",
    "A. Amplifying\n",
    "B. Stabilizing\n",
    "C. Could be either\n",
    "?\n",
    "44\n",
    "\n",
    "```\n",
    "\n"
   ]
  },
  {
   "cell_type": "markdown",
   "metadata": {
    "ctype": "answer",
    "quesnum": 7
   },
   "source": [
    "q7 answer here"
   ]
  },
  {
   "cell_type": "markdown",
   "metadata": {
    "ctype": "question",
    "quesnum": 8
   },
   "source": [
    "# Slide 45\n",
    "```\n",
    "\n",
    "CLICKER:  The Planck Feedback.  Amplifying or Stabilizing?\n",
    "A. Amplifying\n",
    "B. Stabilizing\n",
    "C. Could be either\n",
    "46\n",
    "\n",
    "```\n",
    "\n"
   ]
  },
  {
   "cell_type": "markdown",
   "metadata": {
    "ctype": "answer",
    "quesnum": 8
   },
   "source": [
    "q8 answer here"
   ]
  },
  {
   "cell_type": "markdown",
   "metadata": {
    "ctype": "question",
    "quesnum": 9
   },
   "source": [
    "# Slide 46\n",
    "```\n",
    "\n",
    "CLICKER:  The Planck Feedback.  Amplifying or Stabilizing?\n",
    "Decrease energy inflow\n",
    "Imbalance of inflow and outflow of energy\n",
    "Earth’s temperature ???\n",
    "Radiation\n",
    "emitted ???\n",
    "???\n",
    "Perturbation\n",
    "???\n",
    "A. Amplifying\n",
    "B. Stabilizing\n",
    "C. Could be either\n",
    "47\n",
    "\n",
    "```\n",
    "\n"
   ]
  },
  {
   "cell_type": "markdown",
   "metadata": {
    "ctype": "answer",
    "quesnum": 9
   },
   "source": [
    "q9 answer here"
   ]
  },
  {
   "cell_type": "markdown",
   "metadata": {
    "ctype": "question",
    "quesnum": 10
   },
   "source": [
    "# Slide 51\n",
    "```\n",
    "\n",
    "The Planck Feedback (I)\n",
    "FIRST:  No sun  Earth emits 0.06 W/m2 (geothermal source)\n",
    "Recall: σ = 5.67 x 10-8 W/m2/K.  Assume ε = 1.  No atmosphere.\n",
    "CLICKER:  What is Earth’s temperature?\n",
    "A.   About 6 K\n",
    "B.   About 32 K\n",
    "C.   About 112 K\n",
    "D.   About 273K\n",
    "52\n",
    "\n",
    "```\n",
    "\n"
   ]
  },
  {
   "cell_type": "markdown",
   "metadata": {
    "ctype": "answer",
    "quesnum": 10
   },
   "source": [
    "q10 answer here"
   ]
  },
  {
   "cell_type": "markdown",
   "metadata": {
    "ctype": "question",
    "quesnum": 11
   },
   "source": [
    "# Slide 52\n",
    "```\n",
    "\n",
    "NEXT:  Turn on Sun\n",
    "Suddenly, Earth receives 341 W/m2.\n",
    "Albedo = 0.3\n",
    "No atmosphere\n",
    "Assume ε = 1\n",
    "CLICKER:  What will happen?\n",
    "Earth will immediately become 278 K\n",
    "Earth will warm, over time, to 278 K\n",
    "Earth will immediately become 255 K\n",
    "Earth will warm, over time, to 255K\n",
    "Earth will warm up, but we can’t tell how much.\n",
    "53\n",
    "\n",
    "```\n"
   ]
  },
  {
   "cell_type": "markdown",
   "metadata": {
    "ctype": "answer",
    "quesnum": 11
   },
   "source": [
    "q11 answer here"
   ]
  }
 ],
 "metadata": {
  "jupytext": {
   "main_language": "python"
  }
 },
 "nbformat": 4,
 "nbformat_minor": 4
}
