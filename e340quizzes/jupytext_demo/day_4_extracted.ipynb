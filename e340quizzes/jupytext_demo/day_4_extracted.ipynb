{
 "cells": [
  {
   "cell_type": "markdown",
   "metadata": {
    "ctype": "question",
    "quesnum": 0
   },
   "source": [
    "\n",
    "# Slide 0\n",
    "```\n",
    "\n",
    "Today’s Class\n",
    "1\n",
    "R&R – review and reinforcement  – from last time\n",
    "Earth’s Radiation Balance: Incoming solar radiation and albedo – how they compare to thermal emission/absorption\n",
    "\n",
    "```\n",
    "\n"
   ]
  },
  {
   "cell_type": "markdown",
   "metadata": {
    "ctype": "answer",
    "quesnum": 0
   },
   "source": [
    "q0 answer here"
   ]
  },
  {
   "cell_type": "markdown",
   "metadata": {
    "ctype": "question",
    "quesnum": 1
   },
   "source": [
    "# Slide 1\n",
    "```\n",
    "\n",
    "R&R:\n",
    "Power, Energy flux, black bodies and gray bodies\n",
    "2\n",
    "Assume the initial temperature of the coffee, T, is the same in each cup\n",
    "\n",
    "```\n",
    "\n"
   ]
  },
  {
   "cell_type": "markdown",
   "metadata": {
    "ctype": "answer",
    "quesnum": 1
   },
   "source": [
    "q1 answer here"
   ]
  },
  {
   "cell_type": "markdown",
   "metadata": {
    "ctype": "question",
    "quesnum": 2
   },
   "source": [
    "# Slide 2\n",
    "```\n",
    "\n",
    "R&R:  Power\n",
    "PS > PT > PG > PV\n",
    "PV > PG > PT > PS\n",
    "PV = PG = PT = PS\n",
    "3\n",
    "Which of the following is true about the initial power (heat) output from each of the cups of coffee?\n",
    "Assume the initial temperature of the coffee, T, is the same in each cup\n",
    "\n",
    "```\n",
    "\n"
   ]
  },
  {
   "cell_type": "markdown",
   "metadata": {
    "ctype": "answer",
    "quesnum": 2
   },
   "source": [
    "q2 answer here"
   ]
  },
  {
   "cell_type": "markdown",
   "metadata": {
    "ctype": "question",
    "quesnum": 3
   },
   "source": [
    "# Slide 3\n",
    "```\n",
    "\n",
    "J\n",
    "Js\n",
    "J s-1\n",
    "J s-1 m-2\n",
    "W m-2\n",
    "4\n",
    "What are the units of power?\n",
    "R&R:  Power\n",
    "\n",
    "```\n",
    "\n"
   ]
  },
  {
   "cell_type": "markdown",
   "metadata": {
    "ctype": "answer",
    "quesnum": 3
   },
   "source": [
    "q3 answer here"
   ]
  },
  {
   "cell_type": "markdown",
   "metadata": {
    "ctype": "question",
    "quesnum": 4
   },
   "source": [
    "# Slide 4\n",
    "```\n",
    "\n",
    "5\n",
    "Which of the following is true about the energy flux from each of the cups of coffee?\n",
    "(hint: remember the units of energy flux)\n",
    "R&R:  Energy Flux\n",
    "ES > ET > EG > EV\n",
    "EV > EG > ET > ES\n",
    "EV = EG = ET = ES\n",
    "\n",
    "```\n",
    "\n"
   ]
  },
  {
   "cell_type": "markdown",
   "metadata": {
    "ctype": "answer",
    "quesnum": 4
   },
   "source": [
    "q4 answer here"
   ]
  },
  {
   "cell_type": "markdown",
   "metadata": {
    "ctype": "question",
    "quesnum": 5
   },
   "source": [
    "# Slide 5\n",
    "```\n",
    "\n",
    "Day 3 worksheet, #1\n",
    "6\n",
    "TL = 280 K\n",
    "Is there a net transfer of energy from\n",
    "Right to Left\n",
    "Left to Right\n",
    "Not at all\n",
    "TR = 280 K\n",
    "\n",
    "```\n",
    "\n"
   ]
  },
  {
   "cell_type": "markdown",
   "metadata": {
    "ctype": "answer",
    "quesnum": 5
   },
   "source": [
    "q5 answer here"
   ]
  },
  {
   "cell_type": "markdown",
   "metadata": {
    "ctype": "question",
    "quesnum": 6
   },
   "source": [
    "# Slide 6\n",
    "```\n",
    "\n",
    "Day 3 worksheet, #2\n",
    "7\n",
    "TL = 280 K\n",
    "TR = 280 K\n",
    "Which wall changes its temperature with time?\n",
    "Right\n",
    "Left\n",
    "Neither\n",
    "Both\n",
    "\n",
    "```\n",
    "\n"
   ]
  },
  {
   "cell_type": "markdown",
   "metadata": {
    "ctype": "answer",
    "quesnum": 6
   },
   "source": [
    "q6 answer here"
   ]
  },
  {
   "cell_type": "markdown",
   "metadata": {
    "ctype": "question",
    "quesnum": 7
   },
   "source": [
    "# Slide 7\n",
    "```\n",
    "\n",
    "Day 3 worksheet, #3\n",
    "8\n",
    "TL = 280 K\n",
    "TR = 280 K\n",
    "Which wall will emit the most radiative flux?\n",
    "Right\n",
    "Left\n",
    "e = 0.6\n",
    "e = 1.0\n",
    "\n",
    "```\n",
    "\n"
   ]
  },
  {
   "cell_type": "markdown",
   "metadata": {
    "ctype": "answer",
    "quesnum": 7
   },
   "source": [
    "q7 answer here"
   ]
  },
  {
   "cell_type": "markdown",
   "metadata": {
    "ctype": "question",
    "quesnum": 8
   },
   "source": [
    "# Slide 8\n",
    "```\n",
    "\n",
    "Day 3 worksheet, #4\n",
    "9\n",
    "TL = 280 K\n",
    "TR = 280 K\n",
    "e = 0.6\n",
    "e = 1.0\n",
    "Iemit_R\n",
    "\n",
    "```\n",
    "\n"
   ]
  },
  {
   "cell_type": "markdown",
   "metadata": {
    "ctype": "answer",
    "quesnum": 8
   },
   "source": [
    "q8 answer here"
   ]
  },
  {
   "cell_type": "markdown",
   "metadata": {
    "ctype": "question",
    "quesnum": 9
   },
   "source": [
    "# Slide 9\n",
    "```\n",
    "\n",
    "Day 3 worksheet, #5\n",
    "10\n",
    "TL = 280 K\n",
    "TR = 280 K\n",
    "e = 0.6\n",
    "e = 1.0\n",
    "Iemit_R\n",
    "Iemit_R\n",
    "Iemit_L\n",
    "Irefl_L\n",
    "At the LH wall Iemit_R > Iemit_L so some flux must be reflected, or temperature of\n",
    "LH wall would change, in violation of the 2nd law of thermodynamics\n",
    "So 2nd law requires:  Irefl-L + Iemit-L = Iemit_R\n",
    "\n",
    "```\n",
    "\n"
   ]
  },
  {
   "cell_type": "markdown",
   "metadata": {
    "ctype": "answer",
    "quesnum": 9
   },
   "source": [
    "q9 answer here"
   ]
  },
  {
   "cell_type": "markdown",
   "metadata": {
    "ctype": "question",
    "quesnum": 10
   },
   "source": [
    "# Slide 10\n",
    "```\n",
    "\n",
    "Notes about emissivity:\n",
    "Just because a body in equilibrium emits the same amount of flux as it absorbs does not mean that the outgoing radiation will be at the same wavelength (e.g. the ocean absorbs shortwave radiation and emits longwave radiation).\n",
    "Different surfaces/layers have different colors because their reflectivity changes with wavelength.  For the same reason, their emissivites and absorptivities also change with wavelength.\n",
    "11\n",
    "\n",
    "```\n",
    "\n"
   ]
  },
  {
   "cell_type": "markdown",
   "metadata": {
    "ctype": "answer",
    "quesnum": 10
   },
   "source": [
    "q10 answer here"
   ]
  },
  {
   "cell_type": "markdown",
   "metadata": {
    "ctype": "question",
    "quesnum": 11
   },
   "source": [
    "# Slide 11\n",
    "```\n",
    "\n",
    "Grey body radiation\n",
    "‘Grey body’ is an approximation for a real body whose emission is different from a black body in a way that depends on wavelength.\n",
    "We approximate this by a constant factor, the broadband emissivity, e, that is the ratio of the area under the true grey body curve c.f. area under the black body curve.  Grey body energy flux = esT4\n",
    "12\n",
    "\n",
    "```\n",
    "\n"
   ]
  },
  {
   "cell_type": "markdown",
   "metadata": {
    "ctype": "answer",
    "quesnum": 11
   },
   "source": [
    "q11 answer here"
   ]
  },
  {
   "cell_type": "markdown",
   "metadata": {
    "ctype": "question",
    "quesnum": 12
   },
   "source": [
    "# Slide 12\n",
    "```\n",
    "\n",
    "13\n",
    "R&R:  Black body spectrum\n",
    "BTW: this figure shows that the actual spectrum (black) of the Sun really looks like that of a black body (green curve) with a temperature T ~ 5800 K\n",
    "\n",
    "```\n",
    "\n"
   ]
  },
  {
   "cell_type": "markdown",
   "metadata": {
    "ctype": "answer",
    "quesnum": 12
   },
   "source": [
    "q12 answer here"
   ]
  },
  {
   "cell_type": "markdown",
   "metadata": {
    "ctype": "question",
    "quesnum": 13
   },
   "source": [
    "# Slide 13\n",
    "```\n",
    "\n",
    "Power\n",
    "Energy flux\n",
    "Neither of the above\n",
    "idk\n",
    "14\n",
    "What corresponds to the area under this curve?\n",
    "Black body spectrum\n",
    "BTW: this figure shows that the actual spectrum (black) of the Sun really looks like that of a black body (green curve) with a temperature T ~ 5800 K\n",
    "\n",
    "```\n",
    "\n"
   ]
  },
  {
   "cell_type": "markdown",
   "metadata": {
    "ctype": "answer",
    "quesnum": 13
   },
   "source": [
    "q13 answer here"
   ]
  },
  {
   "cell_type": "markdown",
   "metadata": {
    "ctype": "question",
    "quesnum": 14
   },
   "source": [
    "# Slide 14\n",
    "```\n",
    "\n",
    "BB with different T\n",
    "15\n",
    "As T increases\n",
    "Peak of BB spectrum moves to shorter wavelength (or bigger wavenumber – see last time). Remember from the text book, the peak is at a wavelength of 2897/T (T in Kelvin) in mm. Check these peaks for yourself – my T = 5°C for mud, 37°C for Arnold and 80°C for hot coffee.\n",
    "Curve has higher intensity at all wavelengths, so area under curve increases – we know it must b/c area under curve is equal to sT4\n",
    "\n",
    "```\n",
    "\n"
   ]
  },
  {
   "cell_type": "markdown",
   "metadata": {
    "ctype": "answer",
    "quesnum": 14
   },
   "source": [
    "q14 answer here"
   ]
  },
  {
   "cell_type": "markdown",
   "metadata": {
    "ctype": "question",
    "quesnum": 15
   },
   "source": [
    "# Slide 15\n",
    "```\n",
    "\n",
    "Greybodies: An approximation\n",
    "Most real objects do NOT emit equally well at all wavenumbers (although water comes close in the longwave).\n",
    "Instead, real objects radiate a fraction of the EM energy an ideal black body at the same temperature would radiate\n",
    "We call this the “greybody” approximation:\n",
    "I = εσT4\n",
    "This is the RATIO of the actual energy emitted I to that which a blackbody would emit\n",
    "16\n",
    "\n",
    "```\n",
    "\n"
   ]
  },
  {
   "cell_type": "markdown",
   "metadata": {
    "ctype": "answer",
    "quesnum": 15
   },
   "source": [
    "q15 answer here"
   ]
  },
  {
   "cell_type": "markdown",
   "metadata": {
    "ctype": "question",
    "quesnum": 16
   },
   "source": [
    "# Slide 16\n",
    "```\n",
    "\n",
    "Greybodies: An approximation\n",
    "Total blackbody flux (area):\n",
    "This object only emits in the green wavenumber band. Green Area is 95 W/m2\n",
    "The greybody emissivity is:\n",
    "ε = 95/188 = 0.5\n",
    "T=240 K\n",
    "17\n",
    "\n",
    "```\n",
    "\n"
   ]
  },
  {
   "cell_type": "markdown",
   "metadata": {
    "ctype": "answer",
    "quesnum": 16
   },
   "source": [
    "q16 answer here"
   ]
  },
  {
   "cell_type": "markdown",
   "metadata": {
    "ctype": "question",
    "quesnum": 17
   },
   "source": [
    "# Slide 17\n",
    "```\n",
    "\n",
    "T=300 K\n",
    "Total blackbody flux (area):\n",
    "This object only emits in the green wavenumber band. Green Area is 227 W/m2\n",
    "The greybody emissivity is:\n",
    "ε = 227/460 = 0.5\n",
    "σT4 = 460 W/m2\n",
    "Emissivity is NOT a function of temperature\n",
    "18\n",
    "\n",
    "```\n",
    "\n"
   ]
  },
  {
   "cell_type": "markdown",
   "metadata": {
    "ctype": "answer",
    "quesnum": 17
   },
   "source": [
    "q17 answer here"
   ]
  },
  {
   "cell_type": "markdown",
   "metadata": {
    "ctype": "question",
    "quesnum": 18
   },
   "source": [
    "# Slide 18\n",
    "```\n",
    "\n",
    "Grey body radiation\n",
    "19\n",
    "True\n",
    "False\n",
    "The emissivity of a gray body must be less than 1.\n",
    "\n",
    "```\n",
    "\n"
   ]
  },
  {
   "cell_type": "markdown",
   "metadata": {
    "ctype": "answer",
    "quesnum": 18
   },
   "source": [
    "q18 answer here"
   ]
  },
  {
   "cell_type": "markdown",
   "metadata": {
    "ctype": "question",
    "quesnum": 19
   },
   "source": [
    "# Slide 19\n",
    "```\n",
    "\n",
    "Black vs. grey bodies\n",
    "What is the point of the greybody approximation?  We get to ignore the details of the complex absorption/emission bands, and approximate their effect by a single number, the greybody emissivity e.  In climate models the radiation calculations typically use about 20-30 bands spanning the long and short wavelengths.\n",
    "20\n",
    "\n",
    "```\n",
    "\n"
   ]
  },
  {
   "cell_type": "markdown",
   "metadata": {
    "ctype": "answer",
    "quesnum": 19
   },
   "source": [
    "q19 answer here"
   ]
  },
  {
   "cell_type": "markdown",
   "metadata": {
    "ctype": "question",
    "quesnum": 20
   },
   "source": [
    "# Slide 20\n",
    "```\n",
    "\n",
    "The world in the infrared\n",
    "IR vs. visible video\n",
    "Crucial point – at 2:30 he puts a sheet of paper (cold) over his face (hot) – note that the paper absorbs the IR flux from his face and emits much less – it is absorbing radiation and heating up.  This is the definition of the greenhouse effect.\n",
    "21\n",
    "\n",
    "```\n",
    "\n"
   ]
  },
  {
   "cell_type": "markdown",
   "metadata": {
    "ctype": "answer",
    "quesnum": 20
   },
   "source": [
    "q20 answer here"
   ]
  },
  {
   "cell_type": "markdown",
   "metadata": {
    "ctype": "question",
    "quesnum": 21
   },
   "source": [
    "# Slide 21\n",
    "```\n",
    "\n",
    "The story so far:\n",
    "22\n",
    "\n",
    "```\n",
    "\n"
   ]
  },
  {
   "cell_type": "markdown",
   "metadata": {
    "ctype": "answer",
    "quesnum": 21
   },
   "source": [
    "q21 answer here"
   ]
  },
  {
   "cell_type": "markdown",
   "metadata": {
    "ctype": "question",
    "quesnum": 22
   },
   "source": [
    "# Slide 22\n",
    "```\n",
    "\n",
    "Goals:\n",
    "Apply systems dynamics concepts of stock and flow to Earth’s energy budget.   dE/dt = Idown + Iup  = Idown - |Iup|\n",
    "Figure out the incoming solar radiation for Earth and other planets\n",
    "Compare reflectivity of different parts of the Earth system, both on the surface and in the atmosphere.\n",
    "Predict the impacts of altering solar energy or reflectivity on flows of energy in Earth's climate system, and therefore Earth's temperature (left side of Earth's energy budget diagram)\n",
    "Classify particular changes in incoming solar radiation and albedo as forcings or feedbacks.\n",
    "Calculate planetary temperature response to an instantaneous forcing due to the Planck feedback alone.\n",
    "Day 4: Earth’s Radiation Balance\n",
    "Incoming solar radiation and albedo\n",
    "23\n",
    "\n",
    "```\n",
    "\n"
   ]
  },
  {
   "cell_type": "markdown",
   "metadata": {
    "ctype": "answer",
    "quesnum": 22
   },
   "source": [
    "q22 answer here"
   ]
  },
  {
   "cell_type": "markdown",
   "metadata": {
    "ctype": "question",
    "quesnum": 23
   },
   "source": [
    "# Slide 23\n",
    "```\n",
    "\n",
    "Earth’s Climate - A Stock & Flow analogy\n",
    "24\n",
    "The stock (volume of water) in the bathtub changes according to:\n",
    "dV/dt = Iin - Iout\n",
    "where the outflow depends on the current stock:\n",
    "Iout = (const) x h\n",
    "The “Bathtub” Balance\n",
    "*notice the feedback mechanism*\n",
    "\n",
    "```\n",
    "\n"
   ]
  },
  {
   "cell_type": "markdown",
   "metadata": {
    "ctype": "answer",
    "quesnum": 23
   },
   "source": [
    "q23 answer here"
   ]
  },
  {
   "cell_type": "markdown",
   "metadata": {
    "ctype": "question",
    "quesnum": 24
   },
   "source": [
    "# Slide 24\n",
    "```\n",
    "\n",
    "Earth’s Climate - A Stock & Flow analogy\n",
    "25\n",
    "The stock (volume of water) in the bathtub changes according to:\n",
    "dV/dt = Iin - Iout\n",
    "where the outflow depends on the current stock:\n",
    "Iout = (const) x h\n",
    "The “Bathtub” Balance\n",
    "\n",
    "```\n",
    "\n"
   ]
  },
  {
   "cell_type": "markdown",
   "metadata": {
    "ctype": "answer",
    "quesnum": 24
   },
   "source": [
    "q24 answer here"
   ]
  },
  {
   "cell_type": "markdown",
   "metadata": {
    "ctype": "question",
    "quesnum": 25
   },
   "source": [
    "# Slide 25\n",
    "```\n",
    "\n",
    "How much energy does the Earth receive from the Sun???\n",
    "Let’s calculate the solar constant (use pen & paper)\n",
    "Need following information\n",
    "Sun outputs 3.8 x 1026 W   (1W = 1J/s)\n",
    "Mean sun-earth distance is 150 x 109 m\n",
    "Area of the distance-sphere is 2.8 x 1023 m2\n",
    "Energy received at the Earth is known as the “solar constant” and is   S = 1,360 W/m2\n",
    "How much energy does the Earth absorb? Need radius of the earth  R = 6.4 x 106 m\n",
    "26\n",
    "\n",
    "```\n",
    "\n"
   ]
  },
  {
   "cell_type": "markdown",
   "metadata": {
    "ctype": "answer",
    "quesnum": 25
   },
   "source": [
    "q25 answer here"
   ]
  },
  {
   "cell_type": "markdown",
   "metadata": {
    "ctype": "question",
    "quesnum": 26
   },
   "source": [
    "# Slide 26\n",
    "```\n",
    "\n",
    "Image credit: NASA\n",
    "Solar constant is 1360 W/m2\n",
    "At the top of the atmosphere directly facing the Sun, Earth receives 1360 W/m2\n",
    "The Earth “blocks” an area in space equal to the area of a circle with Earth’s radius (pR2)\n",
    "Each square meter of that imaginary circle gets 1360 W\n",
    "Total energy received proportional to area of that circle\n",
    "The TOTAL energy Earth captures is  1360 x pR2   [W]\n",
    "Distribute total energy received over the surface area of the Earth: (1360 x pR2) / 4pR2   =  1360 / 4  =  340 [W/m2].\n",
    "Aside: Trenberth was working with about 1365 W/m2 for the solar constant 341 W/m2\n",
    "27\n",
    "\n",
    "```\n",
    "\n"
   ]
  },
  {
   "cell_type": "markdown",
   "metadata": {
    "ctype": "answer",
    "quesnum": 26
   },
   "source": [
    "q26 answer here"
   ]
  },
  {
   "cell_type": "markdown",
   "metadata": {
    "ctype": "question",
    "quesnum": 27
   },
   "source": [
    "# Slide 27\n",
    "```\n",
    "\n",
    "CLICKER: Earth’s radiation balance\n",
    "28\n",
    "If the distance between the Earth and the Sun doubles\n",
    "AND\n",
    "the radius of the Earth shrinks to half its current value,\n",
    "how will the amount of radiation per unit area (W/m2) received at the surface of the Earth change?\n",
    "A. Decreases by a factor of 2\n",
    "B. Decreases by a factor of 4\n",
    "C. Decreases by a factor of 8\n",
    "D. Decreases by a factor of 16\n",
    "\n",
    "```\n",
    "\n"
   ]
  },
  {
   "cell_type": "markdown",
   "metadata": {
    "ctype": "answer",
    "quesnum": 27
   },
   "source": [
    "q27 answer here"
   ]
  },
  {
   "cell_type": "markdown",
   "metadata": {
    "ctype": "question",
    "quesnum": 28
   },
   "source": [
    "# Slide 28\n",
    "```\n",
    "\n",
    "CLICKER: Heating rates? \n",
    "At what rate does this atmosphere (the area between the lines) heat up (+) or cool down (-)?\n",
    "29\n",
    "-10 Wm-2\n",
    "-20 Wm-2\n",
    "+20 Wm-2\n",
    "+50 Wm-2\n",
    "+70 Wm-2\n",
    "\n",
    "```\n",
    "\n"
   ]
  },
  {
   "cell_type": "markdown",
   "metadata": {
    "ctype": "answer",
    "quesnum": 28
   },
   "source": [
    "q28 answer here"
   ]
  },
  {
   "cell_type": "markdown",
   "metadata": {
    "ctype": "question",
    "quesnum": 29
   },
   "source": [
    "# Slide 29\n",
    "```\n",
    "\n",
    "Worksheet: The Earth as a Stock and Flow Problem\n",
    "30\n",
    "\n",
    "```\n",
    "\n"
   ]
  },
  {
   "cell_type": "markdown",
   "metadata": {
    "ctype": "answer",
    "quesnum": 29
   },
   "source": [
    "q29 answer here"
   ]
  },
  {
   "cell_type": "markdown",
   "metadata": {
    "ctype": "question",
    "quesnum": 30
   },
   "source": [
    "# Slide 30\n",
    "```\n",
    "\n",
    "Focus on Albedo – left side of diagram\n",
    "31\n",
    "\n",
    "```\n",
    "\n"
   ]
  },
  {
   "cell_type": "markdown",
   "metadata": {
    "ctype": "answer",
    "quesnum": 30
   },
   "source": [
    "q30 answer here"
   ]
  },
  {
   "cell_type": "markdown",
   "metadata": {
    "ctype": "question",
    "quesnum": 31
   },
   "source": [
    "# Slide 31\n",
    "```\n",
    "\n",
    "Summary\n",
    "Balances of flows of energy in, out, and within Earth’s climate system determine Earth’s temperature.\n",
    "We use the “grey body approximation” to estimate the emissivity/absorptivity of the atmosphere\n",
    "Kirchoff’s law guarantees that ε=abs because otherwise we violate the 2nd law of thermodynamics\n",
    "Solids, liquids and gasses emit radiation according to their temperature and their emissivity via the Stefan-Boltzman equation:  I = εσT4\n",
    "These same objects absorb radiation with constant abs=ε that is independent of temperature.\n",
    "That means that cold air can absorb radiation from a warm surface, but not re-radiate all that it has absorbed  This is heating because of the imbalance is called the “greenhouse effect”\n",
    "This doesn’t violate the 2nd law because this system is not isolated – the surface is warmer that the atmosphere because it is absorbing sunlight that passes straight through air.\n",
    "32\n",
    "\n",
    "```\n",
    "\n"
   ]
  },
  {
   "cell_type": "markdown",
   "metadata": {
    "ctype": "answer",
    "quesnum": 31
   },
   "source": [
    "q31 answer here"
   ]
  },
  {
   "cell_type": "markdown",
   "metadata": {
    "ctype": "question",
    "quesnum": 32
   },
   "source": [
    "# Slide 32\n",
    "```\n",
    "\n",
    "“If we were to approximate the average albedo of each of the hemispheres of the Earth, would we get significantly similar quantities?”\n",
    "image: NASA\n",
    "Earth’s surface if the planet were cloud-free\n",
    "Which parts of the Earth are MORE reflective?\n",
    "Which parts of the Earth are LESS reflective?\n",
    "What is the single largest reason that the Earth’s albedo is relatively LOW?\n",
    "33\n",
    "\n",
    "```\n",
    "\n"
   ]
  },
  {
   "cell_type": "markdown",
   "metadata": {
    "ctype": "answer",
    "quesnum": 32
   },
   "source": [
    "q32 answer here"
   ]
  },
  {
   "cell_type": "markdown",
   "metadata": {
    "ctype": "question",
    "quesnum": 33
   },
   "source": [
    "# Slide 33\n",
    "```\n",
    "\n",
    "34\n",
    "\n",
    "```\n",
    "\n"
   ]
  },
  {
   "cell_type": "markdown",
   "metadata": {
    "ctype": "answer",
    "quesnum": 33
   },
   "source": [
    "q33 answer here"
   ]
  },
  {
   "cell_type": "markdown",
   "metadata": {
    "ctype": "question",
    "quesnum": 34
   },
   "source": [
    "# Slide 34\n",
    "```\n",
    "\n",
    "NASA\n",
    "CLICKER: What if the forest expanded into the desert area (and nothing else changed)?\n",
    "Reflectivity would _______.\n",
    "NASA\n",
    "A. Increase       B. Decrease       C. Stay the same\n",
    "35\n",
    "\n",
    "```\n",
    "\n"
   ]
  },
  {
   "cell_type": "markdown",
   "metadata": {
    "ctype": "answer",
    "quesnum": 34
   },
   "source": [
    "q34 answer here"
   ]
  },
  {
   "cell_type": "markdown",
   "metadata": {
    "ctype": "question",
    "quesnum": 35
   },
   "source": [
    "# Slide 35\n",
    "```\n",
    "\n",
    "NASA\n",
    "CLICKER: What if sea level rose (and nothing else changed)? Reflectivity would _______.\n",
    "NASA\n",
    "A. Increase       B. Decrease       C. Stay the same\n",
    "36\n",
    "\n",
    "```\n",
    "\n"
   ]
  },
  {
   "cell_type": "markdown",
   "metadata": {
    "ctype": "answer",
    "quesnum": 35
   },
   "source": [
    "q35 answer here"
   ]
  },
  {
   "cell_type": "markdown",
   "metadata": {
    "ctype": "question",
    "quesnum": 36
   },
   "source": [
    "# Slide 36\n",
    "```\n",
    "\n",
    "Some  Surface Albedos\n",
    "NASA\n",
    "From http://www.eoearth.org/view/article/149954/\n",
    "Compare these\n",
    "37\n",
    "\n",
    "```\n",
    "\n"
   ]
  },
  {
   "cell_type": "markdown",
   "metadata": {
    "ctype": "answer",
    "quesnum": 36
   },
   "source": [
    "q36 answer here"
   ]
  },
  {
   "cell_type": "markdown",
   "metadata": {
    "ctype": "question",
    "quesnum": 37
   },
   "source": [
    "# Slide 37\n",
    "```\n",
    "\n",
    "Cloud Albedo is Variable\n",
    "NASA\n",
    "THICK: more reflective (0.5-0.7)\n",
    "THIN: less reflective (0.1-0.5)\n",
    "38\n",
    "Cloud reflectivity is one of the big unknowns that make predictions about future climate uncertain.  Will future cloud albedos be bigger or smaller?\n",
    "The reflectivity of clouds is determined by water droplet density AND droplet size. Drop-for-drop, smaller drops have larger surface area to volume ratio. \n",
    "More SA = greater reflectivity.\n",
    "\n",
    "```\n",
    "\n"
   ]
  },
  {
   "cell_type": "markdown",
   "metadata": {
    "ctype": "answer",
    "quesnum": 37
   },
   "source": [
    "q37 answer here"
   ]
  },
  {
   "cell_type": "markdown",
   "metadata": {
    "ctype": "question",
    "quesnum": 38
   },
   "source": [
    "# Slide 38\n",
    "```\n",
    "\n",
    "Aerosol Albedo -\n",
    "NASA\n",
    "MORE reflective: Sea salt particles, Sulfate aerosols, Mineral dust\n",
    "LESS reflective: Black carbon (ie. “soot”)\n",
    "39\n",
    "\n",
    "```\n",
    "\n"
   ]
  },
  {
   "cell_type": "markdown",
   "metadata": {
    "ctype": "answer",
    "quesnum": 38
   },
   "source": [
    "q38 answer here"
   ]
  },
  {
   "cell_type": "markdown",
   "metadata": {
    "ctype": "question",
    "quesnum": 39
   },
   "source": [
    "# Slide 39\n",
    "```\n",
    "\n",
    "CLICKER: What if sunspots change incoming solar radiation?\n",
    "A. Forcing        B. Feedback        C. Could be either\n",
    "40\n",
    "\n",
    "```\n",
    "\n"
   ]
  },
  {
   "cell_type": "markdown",
   "metadata": {
    "ctype": "answer",
    "quesnum": 39
   },
   "source": [
    "q39 answer here"
   ]
  },
  {
   "cell_type": "markdown",
   "metadata": {
    "ctype": "question",
    "quesnum": 40
   },
   "source": [
    "# Slide 40\n",
    "```\n",
    "\n",
    "CLICKER: What if ice on Earth’s surface melts?\n",
    "A. Forcing        B. Feedback        C. Could be either\n",
    "41\n",
    "\n",
    "```\n",
    "\n"
   ]
  },
  {
   "cell_type": "markdown",
   "metadata": {
    "ctype": "answer",
    "quesnum": 40
   },
   "source": [
    "q40 answer here"
   ]
  },
  {
   "cell_type": "markdown",
   "metadata": {
    "ctype": "question",
    "quesnum": 41
   },
   "source": [
    "# Slide 41\n",
    "```\n",
    "\n",
    "CLICKER: What if coal-burning increases sulfate aerosols?\n",
    "A. Forcing        B. Feedback        C. Could be either\n",
    "42\n",
    "\n",
    "```\n",
    "\n"
   ]
  },
  {
   "cell_type": "markdown",
   "metadata": {
    "ctype": "answer",
    "quesnum": 41
   },
   "source": [
    "q41 answer here"
   ]
  },
  {
   "cell_type": "markdown",
   "metadata": {
    "ctype": "question",
    "quesnum": 42
   },
   "source": [
    "# Slide 42\n",
    "```\n",
    "\n",
    "IDENTIFY: “Amplifying” or “Stabilizing”\n",
    "Necessary to distinguish between two types of feedback mechanisms:\n",
    "The initial perturbation is dampened by the feedback mechanism  STABILIZING (negative)\n",
    "The initial change (perturbation) is continually amplified by the feedback mechanism  AMPLIFYING (positive)\n",
    "We will revisit this on Day 11 - For now, let’s do some practice\n",
    "43\n",
    "\n",
    "```\n",
    "\n"
   ]
  },
  {
   "cell_type": "markdown",
   "metadata": {
    "ctype": "answer",
    "quesnum": 42
   },
   "source": [
    "q42 answer here"
   ]
  },
  {
   "cell_type": "markdown",
   "metadata": {
    "ctype": "question",
    "quesnum": 43
   },
   "source": [
    "# Slide 43\n",
    "```\n",
    "\n",
    "CLICKER:  Clouds are involved in several different feedbacks.  Is this one amplifying or stabilizing?\n",
    "Warming\n",
    "More \n",
    "water in a warmer atmosphere\n",
    "Greater cloud low cover\n",
    "Greater reflectivity\n",
    "?\n",
    "Perturbation\n",
    "A. Amplifying\n",
    "B. Stabilizing\n",
    "C. Could be either\n",
    "?\n",
    "44\n",
    "\n",
    "```\n",
    "\n"
   ]
  },
  {
   "cell_type": "markdown",
   "metadata": {
    "ctype": "answer",
    "quesnum": 43
   },
   "source": [
    "q43 answer here"
   ]
  },
  {
   "cell_type": "markdown",
   "metadata": {
    "ctype": "question",
    "quesnum": 44
   },
   "source": [
    "# Slide 44\n",
    "```\n",
    "\n",
    "Warming\n",
    "More \n",
    "water in a warmer atmosphere\n",
    "Greater cloud cover\n",
    "Greater reflectivity\n",
    "Cooler temperatures counteract warming\n",
    "Perturbation\n",
    "Stabilizing!\n",
    "45\n",
    "\n",
    "```\n",
    "\n"
   ]
  },
  {
   "cell_type": "markdown",
   "metadata": {
    "ctype": "answer",
    "quesnum": 44
   },
   "source": [
    "q44 answer here"
   ]
  },
  {
   "cell_type": "markdown",
   "metadata": {
    "ctype": "question",
    "quesnum": 45
   },
   "source": [
    "# Slide 45\n",
    "```\n",
    "\n",
    "CLICKER:  The Planck Feedback.  Amplifying or Stabilizing?\n",
    "A. Amplifying\n",
    "B. Stabilizing\n",
    "C. Could be either\n",
    "46\n",
    "\n",
    "```\n",
    "\n"
   ]
  },
  {
   "cell_type": "markdown",
   "metadata": {
    "ctype": "answer",
    "quesnum": 45
   },
   "source": [
    "q45 answer here"
   ]
  },
  {
   "cell_type": "markdown",
   "metadata": {
    "ctype": "question",
    "quesnum": 46
   },
   "source": [
    "# Slide 46\n",
    "```\n",
    "\n",
    "CLICKER:  The Planck Feedback.  Amplifying or Stabilizing?\n",
    "Decrease energy inflow\n",
    "Imbalance of inflow and outflow of energy\n",
    "Earth’s temperature ???\n",
    "Radiation\n",
    "emitted ???\n",
    "???\n",
    "Perturbation\n",
    "???\n",
    "A. Amplifying\n",
    "B. Stabilizing\n",
    "C. Could be either\n",
    "47\n",
    "\n",
    "```\n",
    "\n"
   ]
  },
  {
   "cell_type": "markdown",
   "metadata": {
    "ctype": "answer",
    "quesnum": 46
   },
   "source": [
    "q46 answer here"
   ]
  },
  {
   "cell_type": "markdown",
   "metadata": {
    "ctype": "question",
    "quesnum": 47
   },
   "source": [
    "# Slide 47\n",
    "```\n",
    "\n",
    "The Planck Feedback:  Amplifying or Stabilizing?\n",
    "48\n",
    "\n",
    "```\n",
    "\n"
   ]
  },
  {
   "cell_type": "markdown",
   "metadata": {
    "ctype": "answer",
    "quesnum": 47
   },
   "source": [
    "q47 answer here"
   ]
  },
  {
   "cell_type": "markdown",
   "metadata": {
    "ctype": "question",
    "quesnum": 48
   },
   "source": [
    "# Slide 48\n",
    "```\n",
    "\n",
    "Temperature and sea ice trends due to both forcings (CO2, aerosols) and weather (wind patterns)\n",
    "aerosol cooling\n",
    "wind transport through Fram strait\n",
    "49\n",
    "\n",
    "```\n",
    "\n"
   ]
  },
  {
   "cell_type": "markdown",
   "metadata": {
    "ctype": "answer",
    "quesnum": 48
   },
   "source": [
    "q48 answer here"
   ]
  },
  {
   "cell_type": "markdown",
   "metadata": {
    "ctype": "question",
    "quesnum": 49
   },
   "source": [
    "# Slide 49\n",
    "```\n",
    "\n",
    "unused\n",
    "50\n",
    "\n",
    "```\n",
    "\n"
   ]
  },
  {
   "cell_type": "markdown",
   "metadata": {
    "ctype": "answer",
    "quesnum": 49
   },
   "source": [
    "q49 answer here"
   ]
  },
  {
   "cell_type": "markdown",
   "metadata": {
    "ctype": "question",
    "quesnum": 50
   },
   "source": [
    "# Slide 50\n",
    "```\n",
    "\n",
    "51\n",
    "I am confused about question 3. Why do we need to average over the total surface area of the Earth to do this question?? The numbers given are already the averages.\n",
    "How is the radius from the sun a determining factor in the solar constant?\n",
    "Can you go over the calculations in more detail during class? We can do that\n",
    "Why is it ok to assume that the earth's albedo is 0.3, when the surface areas of the different parts of Earth are so different (i.e. ALL desert, ALL snow, some land, some snow etc...)?   Averaging - it’s a model\n",
    "If we were to approximate the average albedo of each of the hemispheres of the Earth, would we get significantly similar quantities?  Let’s come back to this\n",
    "As well, why are power and energy used interchangeably in climate calculations? Which symbols do I use?  Context matters - be flexible - check units\n",
    "Question 4 was difficult, I had difficulty understanding what the question was asking and how to approach it.  Do it at the end of class, IF we have time\n",
    "How was Stefan Boltzmann inspired to study this?\n",
    "Josef Stefan  and  Ludwig Boltzman\n",
    "Day 4 PreClass Quiz Feedback\n",
    "\n",
    "```\n",
    "\n"
   ]
  },
  {
   "cell_type": "markdown",
   "metadata": {
    "ctype": "answer",
    "quesnum": 50
   },
   "source": [
    "q50 answer here"
   ]
  },
  {
   "cell_type": "markdown",
   "metadata": {
    "ctype": "question",
    "quesnum": 51
   },
   "source": [
    "# Slide 51\n",
    "```\n",
    "\n",
    "The Planck Feedback (I)\n",
    "FIRST:  No sun  Earth emits 0.06 W/m2 (geothermal source)\n",
    "Recall: σ = 5.67 x 10-8 W/m2/K.  Assume ε = 1.  No atmosphere.\n",
    "CLICKER:  What is Earth’s temperature?\n",
    "A.   About 6 K\n",
    "B.   About 32 K\n",
    "C.   About 112 K\n",
    "D.   About 273K\n",
    "52\n",
    "\n",
    "```\n",
    "\n"
   ]
  },
  {
   "cell_type": "markdown",
   "metadata": {
    "ctype": "answer",
    "quesnum": 51
   },
   "source": [
    "q51 answer here"
   ]
  },
  {
   "cell_type": "markdown",
   "metadata": {
    "ctype": "question",
    "quesnum": 52
   },
   "source": [
    "# Slide 52\n",
    "```\n",
    "\n",
    "NEXT:  Turn on Sun\n",
    "Suddenly, Earth receives 341 W/m2.\n",
    "Albedo = 0.3\n",
    "No atmosphere\n",
    "Assume ε = 1\n",
    "CLICKER:  What will happen?\n",
    "Earth will immediately become 278 K\n",
    "Earth will warm, over time, to 278 K\n",
    "Earth will immediately become 255 K\n",
    "Earth will warm, over time, to 255K\n",
    "Earth will warm up, but we can’t tell how much.\n",
    "53\n",
    "\n",
    "```\n"
   ]
  },
  {
   "cell_type": "markdown",
   "metadata": {
    "ctype": "answer",
    "quesnum": 52
   },
   "source": [
    "q52 answer here"
   ]
  }
 ],
 "metadata": {
  "jupytext": {
   "main_language": "python"
  }
 },
 "nbformat": 4,
 "nbformat_minor": 4
}
