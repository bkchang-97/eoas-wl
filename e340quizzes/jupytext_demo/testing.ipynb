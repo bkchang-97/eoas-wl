{
 "cells": [
  {
   "cell_type": "code",
   "execution_count": 1,
   "metadata": {
    "ctype": "question",
    "quesnum": 0
   },
   "outputs": [],
   "source": [
    "\"\"\"\n",
    "This script goes through all the cells in a notebook\n",
    "and sets the ctype metadata to 'question' and adds\n",
    "a question number.  Then it makes a second pass through \n",
    "each cell and adds a new cell with the same question number\n",
    "and the metadata answer, with the text 'qxx answer here'\n",
    "\n",
    "To run:\n",
    "\n",
    "python write_meta.py in_notebook.md out_notebook.md\n",
    "\n",
    "\"\"\"\n",
    "import jupytext as jp\n",
    "from jupytext.cli import jupytext\n",
    "from pathlib import Path\n",
    "from nbformat.v4.nbbase import new_code_cell, new_markdown_cell\n",
    "import click\n",
    "\n",
    "#     in_file = Path(jupyin).resolve()\n",
    "#     out_file = Path(jupyout).resolve()\n",
    "#     print(in_file,out_file)\n",
    "#     nb = jp.read(in_file)\n",
    "#     print(f\"{(len(nb),type(nb))=}\")\n",
    "#     print(f\"keys {list(nb.keys())}\")\n",
    "#     for item in ['nbformat', 'nbformat_minor', 'metadata']:\n",
    "#         print(f\"{item}:{nb[item]=}\")\n",
    "#     for count,the_cell in enumerate(nb['cells']):\n",
    "#         the_cell['metadata']['ctype']='question'\n",
    "#         the_cell['metadata']['quesnum']=count\n",
    "#     new_cells = []\n",
    "#     for a_cell in nb['cells']:\n",
    "#         new_cells.append(a_cell)\n",
    "#         num = a_cell['metadata']['quesnum']\n",
    "#         source = f\"q{num} answer here\"\n",
    "#         answer = new_markdown_cell(source=source)\n",
    "#         answer['metadata']['quesnum']=a_cell['metadata']['quesnum']\n",
    "#         answer['metadata']['ctype']='answer'\n",
    "#         new_cells.append(answer)\n",
    "#     nb['cells'] = new_cells\n",
    "#     #\n",
    "#     # write two versions of the notebook -- md and ipynb\n",
    "#     #\n",
    "#     jp.write(nb,out_file)\n",
    "#     out_file = out_file.with_suffix('.ipynb')\n",
    "#     jp.write(nb,out_file)\n",
    "\n",
    "# if __name__ == \"__main__\":\n",
    "#     main()\n"
   ]
  },
  {
   "cell_type": "markdown",
   "metadata": {
    "ctype": "answer",
    "quesnum": 0
   },
   "source": [
    "q0 answer here"
   ]
  },
  {
   "cell_type": "code",
   "execution_count": 2,
   "metadata": {
    "ctype": "question",
    "quesnum": 1
   },
   "outputs": [],
   "source": [
    "nb = jp.read(\"Day04_19wt2_postclass.md\")"
   ]
  },
  {
   "cell_type": "markdown",
   "metadata": {
    "ctype": "answer",
    "quesnum": 1
   },
   "source": [
    "q1 answer here"
   ]
  },
  {
   "cell_type": "code",
   "execution_count": 3,
   "metadata": {
    "ctype": "question",
    "quesnum": 2
   },
   "outputs": [],
   "source": [
    "clickers = [x for x in nb['cells'] if \"CLICKER\" in x['source']]"
   ]
  },
  {
   "cell_type": "markdown",
   "metadata": {
    "ctype": "answer",
    "quesnum": 2
   },
   "source": [
    "q2 answer here"
   ]
  },
  {
   "cell_type": "code",
   "execution_count": 4,
   "metadata": {
    "ctype": "question",
    "quesnum": 3
   },
   "outputs": [
    {
     "data": {
      "text/plain": [
       "[{'cell_type': 'markdown',\n",
       "  'source': '# Slide 27\\n```\\n\\nCLICKER: Earth’s radiation balance\\n28\\nIf the distance between the Earth and the Sun doubles\\nAND\\nthe radius of the Earth shrinks to half its current value,\\nhow will the amount of radiation per unit area (W/m2) received at the surface of the Earth change?\\nA. Decreases by a factor of 2\\nB. Decreases by a factor of 4\\nC. Decreases by a factor of 8\\nD. Decreases by a factor of 16\\n\\n```\\n\\n',\n",
       "  'metadata': {}},\n",
       " {'cell_type': 'markdown',\n",
       "  'source': '# Slide 28\\n```\\n\\nCLICKER: Heating rates? \\nAt what rate does this atmosphere (the area between the lines) heat up (+) or cool down (-)?\\n29\\n-10 Wm-2\\n-20 Wm-2\\n+20 Wm-2\\n+50 Wm-2\\n+70 Wm-2\\n\\n```\\n\\n',\n",
       "  'metadata': {}},\n",
       " {'cell_type': 'markdown',\n",
       "  'source': '# Slide 34\\n```\\n\\nNASA\\nCLICKER: What if the forest expanded into the desert area (and nothing else changed)?\\nReflectivity would _______.\\nNASA\\nA. Increase       B. Decrease       C. Stay the same\\n35\\n\\n```\\n\\n',\n",
       "  'metadata': {}},\n",
       " {'cell_type': 'markdown',\n",
       "  'source': '# Slide 35\\n```\\n\\nNASA\\nCLICKER: What if sea level rose (and nothing else changed)? Reflectivity would _______.\\nNASA\\nA. Increase       B. Decrease       C. Stay the same\\n36\\n\\n```\\n\\n',\n",
       "  'metadata': {}},\n",
       " {'cell_type': 'markdown',\n",
       "  'source': '# Slide 39\\n```\\n\\nCLICKER: What if sunspots change incoming solar radiation?\\nA. Forcing        B. Feedback        C. Could be either\\n40\\n\\n```\\n\\n',\n",
       "  'metadata': {}},\n",
       " {'cell_type': 'markdown',\n",
       "  'source': '# Slide 40\\n```\\n\\nCLICKER: What if ice on Earth’s surface melts?\\nA. Forcing        B. Feedback        C. Could be either\\n41\\n\\n```\\n\\n',\n",
       "  'metadata': {}},\n",
       " {'cell_type': 'markdown',\n",
       "  'source': '# Slide 41\\n```\\n\\nCLICKER: What if coal-burning increases sulfate aerosols?\\nA. Forcing        B. Feedback        C. Could be either\\n42\\n\\n```\\n\\n',\n",
       "  'metadata': {}},\n",
       " {'cell_type': 'markdown',\n",
       "  'source': '# Slide 43\\n```\\n\\nCLICKER:  Clouds are involved in several different feedbacks.  Is this one amplifying or stabilizing?\\nWarming\\nMore \\nwater in a warmer atmosphere\\nGreater cloud low cover\\nGreater reflectivity\\n?\\nPerturbation\\nA. Amplifying\\nB. Stabilizing\\nC. Could be either\\n?\\n44\\n\\n```\\n\\n',\n",
       "  'metadata': {}},\n",
       " {'cell_type': 'markdown',\n",
       "  'source': '# Slide 45\\n```\\n\\nCLICKER:  The Planck Feedback.  Amplifying or Stabilizing?\\nA. Amplifying\\nB. Stabilizing\\nC. Could be either\\n46\\n\\n```\\n\\n',\n",
       "  'metadata': {}},\n",
       " {'cell_type': 'markdown',\n",
       "  'source': '# Slide 46\\n```\\n\\nCLICKER:  The Planck Feedback.  Amplifying or Stabilizing?\\nDecrease energy inflow\\nImbalance of inflow and outflow of energy\\nEarth’s temperature ???\\nRadiation\\nemitted ???\\n???\\nPerturbation\\n???\\nA. Amplifying\\nB. Stabilizing\\nC. Could be either\\n47\\n\\n```\\n\\n',\n",
       "  'metadata': {}},\n",
       " {'cell_type': 'markdown',\n",
       "  'source': '# Slide 51\\n```\\n\\nThe Planck Feedback (I)\\nFIRST:  No sun \\uf0e0 Earth emits 0.06 W/m2 (geothermal source)\\nRecall: σ = 5.67 x 10-8 W/m2/K.  Assume ε = 1.  No atmosphere.\\nCLICKER:  What is Earth’s temperature?\\nA.   About 6 K\\nB.   About 32 K\\nC.   About 112 K\\nD.   About 273K\\n52\\n\\n```\\n\\n',\n",
       "  'metadata': {}},\n",
       " {'cell_type': 'markdown',\n",
       "  'source': '# Slide 52\\n```\\n\\nNEXT:  Turn on Sun\\nSuddenly, Earth receives 341 W/m2.\\nAlbedo = 0.3\\nNo atmosphere\\nAssume ε = 1\\nCLICKER:  What will happen?\\nEarth will immediately become 278 K\\nEarth will warm, over time, to 278 K\\nEarth will immediately become 255 K\\nEarth will warm, over time, to 255K\\nEarth will warm up, but we can’t tell how much.\\n53\\n\\n```\\n',\n",
       "  'metadata': {}}]"
      ]
     },
     "execution_count": 4,
     "metadata": {},
     "output_type": "execute_result"
    }
   ],
   "source": [
    "clickers"
   ]
  },
  {
   "cell_type": "markdown",
   "metadata": {
    "ctype": "answer",
    "quesnum": 3
   },
   "source": [
    "q3 answer here"
   ]
  },
  {
   "cell_type": "markdown",
   "metadata": {
    "ctype": "answer",
    "quesnum": 4
   },
   "source": [
    "q4 answer here"
   ]
  },
  {
   "cell_type": "code",
   "execution_count": 5,
   "metadata": {
    "ctype": "question",
    "quesnum": 5
   },
   "outputs": [
    {
     "data": {
      "text/plain": [
       "[{'cell_type': 'markdown',\n",
       "  'source': '# Slide 27\\n```\\n\\nCLICKER: Earth’s radiation balance\\n28\\nIf the distance between the Earth and the Sun doubles\\nAND\\nthe radius of the Earth shrinks to half its current value,\\nhow will the amount of radiation per unit area (W/m2) received at the surface of the Earth change?\\nA. Decreases by a factor of 2\\nB. Decreases by a factor of 4\\nC. Decreases by a factor of 8\\nD. Decreases by a factor of 16\\n\\n```\\n\\n',\n",
       "  'metadata': {}},\n",
       " {'cell_type': 'markdown',\n",
       "  'source': '# Slide 28\\n```\\n\\nCLICKER: Heating rates? \\nAt what rate does this atmosphere (the area between the lines) heat up (+) or cool down (-)?\\n29\\n-10 Wm-2\\n-20 Wm-2\\n+20 Wm-2\\n+50 Wm-2\\n+70 Wm-2\\n\\n```\\n\\n',\n",
       "  'metadata': {}},\n",
       " {'cell_type': 'markdown',\n",
       "  'source': '# Slide 34\\n```\\n\\nNASA\\nCLICKER: What if the forest expanded into the desert area (and nothing else changed)?\\nReflectivity would _______.\\nNASA\\nA. Increase       B. Decrease       C. Stay the same\\n35\\n\\n```\\n\\n',\n",
       "  'metadata': {}},\n",
       " {'cell_type': 'markdown',\n",
       "  'source': '# Slide 35\\n```\\n\\nNASA\\nCLICKER: What if sea level rose (and nothing else changed)? Reflectivity would _______.\\nNASA\\nA. Increase       B. Decrease       C. Stay the same\\n36\\n\\n```\\n\\n',\n",
       "  'metadata': {}},\n",
       " {'cell_type': 'markdown',\n",
       "  'source': '# Slide 39\\n```\\n\\nCLICKER: What if sunspots change incoming solar radiation?\\nA. Forcing        B. Feedback        C. Could be either\\n40\\n\\n```\\n\\n',\n",
       "  'metadata': {}},\n",
       " {'cell_type': 'markdown',\n",
       "  'source': '# Slide 40\\n```\\n\\nCLICKER: What if ice on Earth’s surface melts?\\nA. Forcing        B. Feedback        C. Could be either\\n41\\n\\n```\\n\\n',\n",
       "  'metadata': {}},\n",
       " {'cell_type': 'markdown',\n",
       "  'source': '# Slide 41\\n```\\n\\nCLICKER: What if coal-burning increases sulfate aerosols?\\nA. Forcing        B. Feedback        C. Could be either\\n42\\n\\n```\\n\\n',\n",
       "  'metadata': {}},\n",
       " {'cell_type': 'markdown',\n",
       "  'source': '# Slide 43\\n```\\n\\nCLICKER:  Clouds are involved in several different feedbacks.  Is this one amplifying or stabilizing?\\nWarming\\nMore \\nwater in a warmer atmosphere\\nGreater cloud low cover\\nGreater reflectivity\\n?\\nPerturbation\\nA. Amplifying\\nB. Stabilizing\\nC. Could be either\\n?\\n44\\n\\n```\\n\\n',\n",
       "  'metadata': {}},\n",
       " {'cell_type': 'markdown',\n",
       "  'source': '# Slide 45\\n```\\n\\nCLICKER:  The Planck Feedback.  Amplifying or Stabilizing?\\nA. Amplifying\\nB. Stabilizing\\nC. Could be either\\n46\\n\\n```\\n\\n',\n",
       "  'metadata': {}},\n",
       " {'cell_type': 'markdown',\n",
       "  'source': '# Slide 46\\n```\\n\\nCLICKER:  The Planck Feedback.  Amplifying or Stabilizing?\\nDecrease energy inflow\\nImbalance of inflow and outflow of energy\\nEarth’s temperature ???\\nRadiation\\nemitted ???\\n???\\nPerturbation\\n???\\nA. Amplifying\\nB. Stabilizing\\nC. Could be either\\n47\\n\\n```\\n\\n',\n",
       "  'metadata': {}},\n",
       " {'cell_type': 'markdown',\n",
       "  'source': '# Slide 51\\n```\\n\\nThe Planck Feedback (I)\\nFIRST:  No sun \\uf0e0 Earth emits 0.06 W/m2 (geothermal source)\\nRecall: σ = 5.67 x 10-8 W/m2/K.  Assume ε = 1.  No atmosphere.\\nCLICKER:  What is Earth’s temperature?\\nA.   About 6 K\\nB.   About 32 K\\nC.   About 112 K\\nD.   About 273K\\n52\\n\\n```\\n\\n',\n",
       "  'metadata': {}},\n",
       " {'cell_type': 'markdown',\n",
       "  'source': '# Slide 52\\n```\\n\\nNEXT:  Turn on Sun\\nSuddenly, Earth receives 341 W/m2.\\nAlbedo = 0.3\\nNo atmosphere\\nAssume ε = 1\\nCLICKER:  What will happen?\\nEarth will immediately become 278 K\\nEarth will warm, over time, to 278 K\\nEarth will immediately become 255 K\\nEarth will warm, over time, to 255K\\nEarth will warm up, but we can’t tell how much.\\n53\\n\\n```\\n',\n",
       "  'metadata': {}}]"
      ]
     },
     "execution_count": 5,
     "metadata": {},
     "output_type": "execute_result"
    }
   ],
   "source": [
    "clickers"
   ]
  },
  {
   "cell_type": "markdown",
   "metadata": {
    "ctype": "answer",
    "quesnum": 5
   },
   "source": [
    "q5 answer here"
   ]
  },
  {
   "cell_type": "code",
   "execution_count": 6,
   "metadata": {
    "ctype": "question",
    "quesnum": 6
   },
   "outputs": [],
   "source": [
    "new_cells = []\n",
    "\n",
    "for count,the_cell in enumerate(clickers):\n",
    "    the_cell['metadata']['ctype']='question'\n",
    "    the_cell['metadata']['quesnum']=count\n",
    "\n",
    "for a_cell in clickers:\n",
    "    new_cells.append(a_cell)\n",
    "    num = a_cell['metadata']['quesnum']\n",
    "    source = f\"q{num} answer here\"\n",
    "    answer = new_markdown_cell(source=source)\n",
    "    answer['metadata']['quesnum']=a_cell['metadata']['quesnum']\n",
    "    answer['metadata']['ctype']='answer'\n",
    "    new_cells.append(answer)"
   ]
  },
  {
   "cell_type": "code",
   "execution_count": 7,
   "metadata": {},
   "outputs": [
    {
     "data": {
      "text/plain": [
       "{'nbformat': 4,\n",
       " 'nbformat_minor': 4,\n",
       " 'metadata': {'jupytext': {'text_representation': {'extension': '.md',\n",
       "    'format_name': 'markdown',\n",
       "    'format_version': '1.2',\n",
       "    'jupytext_version': '1.7.1'},\n",
       "   'main_language': 'python'}},\n",
       " 'cells': [{'cell_type': 'markdown',\n",
       "   'source': '\\n# Slide 0\\n```\\n\\nToday’s Class\\n1\\nR&R – review and reinforcement \\uf04a – from last time\\nEarth’s Radiation Balance: Incoming solar radiation and albedo – how they compare to thermal emission/absorption\\n\\n```\\n\\n',\n",
       "   'metadata': {}},\n",
       "  {'cell_type': 'markdown',\n",
       "   'source': '# Slide 1\\n```\\n\\nR&R:\\nPower, Energy flux, black bodies and gray bodies\\n2\\nAssume the initial temperature of the coffee, T, is the same in each cup\\n\\n```\\n\\n',\n",
       "   'metadata': {}},\n",
       "  {'cell_type': 'markdown',\n",
       "   'source': '# Slide 2\\n```\\n\\nR&R:  Power\\nPS > PT > PG > PV\\nPV > PG > PT > PS\\nPV = PG = PT = PS\\n3\\nWhich of the following is true about the initial power (heat) output from each of the cups of coffee?\\nAssume the initial temperature of the coffee, T, is the same in each cup\\n\\n```\\n\\n',\n",
       "   'metadata': {}},\n",
       "  {'cell_type': 'markdown',\n",
       "   'source': '# Slide 3\\n```\\n\\nJ\\nJs\\nJ s-1\\nJ s-1 m-2\\nW m-2\\n4\\nWhat are the units of power?\\nR&R:  Power\\n\\n```\\n\\n',\n",
       "   'metadata': {}},\n",
       "  {'cell_type': 'markdown',\n",
       "   'source': '# Slide 4\\n```\\n\\n5\\nWhich of the following is true about the energy flux from each of the cups of coffee?\\n(hint: remember the units of energy flux)\\nR&R:  Energy Flux\\nES > ET > EG > EV\\nEV > EG > ET > ES\\nEV = EG = ET = ES\\n\\n```\\n\\n',\n",
       "   'metadata': {}},\n",
       "  {'cell_type': 'markdown',\n",
       "   'source': '# Slide 5\\n```\\n\\nDay 3 worksheet, #1\\n6\\nTL = 280 K\\nIs there a net transfer of energy from\\nRight to Left\\nLeft to Right\\nNot at all\\nTR = 280 K\\n\\n```\\n\\n',\n",
       "   'metadata': {}},\n",
       "  {'cell_type': 'markdown',\n",
       "   'source': '# Slide 6\\n```\\n\\nDay 3 worksheet, #2\\n7\\nTL = 280 K\\nTR = 280 K\\nWhich wall changes its temperature with time?\\nRight\\nLeft\\nNeither\\nBoth\\n\\n```\\n\\n',\n",
       "   'metadata': {}},\n",
       "  {'cell_type': 'markdown',\n",
       "   'source': '# Slide 7\\n```\\n\\nDay 3 worksheet, #3\\n8\\nTL = 280 K\\nTR = 280 K\\nWhich wall will emit the most radiative flux?\\nRight\\nLeft\\ne = 0.6\\ne = 1.0\\n\\n```\\n\\n',\n",
       "   'metadata': {}},\n",
       "  {'cell_type': 'markdown',\n",
       "   'source': '# Slide 8\\n```\\n\\nDay 3 worksheet, #4\\n9\\nTL = 280 K\\nTR = 280 K\\ne = 0.6\\ne = 1.0\\nIemit_R\\n\\n```\\n\\n',\n",
       "   'metadata': {}},\n",
       "  {'cell_type': 'markdown',\n",
       "   'source': '# Slide 9\\n```\\n\\nDay 3 worksheet, #5\\n10\\nTL = 280 K\\nTR = 280 K\\ne = 0.6\\ne = 1.0\\nIemit_R\\nIemit_R\\nIemit_L\\nIrefl_L\\nAt the LH wall Iemit_R > Iemit_L so some flux must be reflected, or temperature of\\nLH wall would change, in violation of the 2nd law of thermodynamics\\nSo 2nd law requires:  Irefl-L + Iemit-L = Iemit_R\\n\\n```\\n\\n',\n",
       "   'metadata': {}},\n",
       "  {'cell_type': 'markdown',\n",
       "   'source': '# Slide 10\\n```\\n\\nNotes about emissivity:\\nJust because a body in equilibrium emits the same amount of flux as it absorbs does not mean that the outgoing radiation will be at the same wavelength (e.g. the ocean absorbs shortwave radiation and emits longwave radiation).\\nDifferent surfaces/layers have different colors because their reflectivity changes with wavelength.  For the same reason, their emissivites and absorptivities also change with wavelength.\\n11\\n\\n```\\n\\n',\n",
       "   'metadata': {}},\n",
       "  {'cell_type': 'markdown',\n",
       "   'source': '# Slide 11\\n```\\n\\nGrey body radiation\\n‘Grey body’ is an approximation for a real body whose emission is different from a black body in a way that depends on wavelength.\\nWe approximate this by a constant factor, the broadband emissivity, e, that is the ratio of the area under the true grey body curve c.f. area under the black body curve. \\uf0e0 Grey body energy flux = esT4\\n12\\n\\n```\\n\\n',\n",
       "   'metadata': {}},\n",
       "  {'cell_type': 'markdown',\n",
       "   'source': '# Slide 12\\n```\\n\\n13\\nR&R:  Black body spectrum\\nBTW: this figure shows that the actual spectrum (black) of the Sun really looks like that of a black body (green curve) with a temperature T ~ 5800 K\\n\\n```\\n\\n',\n",
       "   'metadata': {}},\n",
       "  {'cell_type': 'markdown',\n",
       "   'source': '# Slide 13\\n```\\n\\nPower\\nEnergy flux\\nNeither of the above\\nidk\\n14\\nWhat corresponds to the area under this curve?\\nBlack body spectrum\\nBTW: this figure shows that the actual spectrum (black) of the Sun really looks like that of a black body (green curve) with a temperature T ~ 5800 K\\n\\n```\\n\\n',\n",
       "   'metadata': {}},\n",
       "  {'cell_type': 'markdown',\n",
       "   'source': '# Slide 14\\n```\\n\\nBB with different T\\n15\\nAs T increases\\nPeak of BB spectrum moves to shorter wavelength (or bigger wavenumber – see last time). Remember from the text book, the peak is at a wavelength of 2897/T (T in Kelvin) in mm. Check these peaks for yourself – my T = 5°C for mud, 37°C for Arnold and 80°C for hot coffee.\\nCurve has higher intensity at all wavelengths, so area under curve increases – we know it must b/c area under curve is equal to sT4\\n\\n```\\n\\n',\n",
       "   'metadata': {}},\n",
       "  {'cell_type': 'markdown',\n",
       "   'source': '# Slide 15\\n```\\n\\nGreybodies: An approximation\\nMost real objects do NOT emit equally well at all wavenumbers (although water comes close in the longwave).\\nInstead, real objects radiate a fraction of the EM energy an ideal black body at the same temperature would radiate\\nWe call this the “greybody” approximation:\\nI = εσT4\\nThis is the RATIO of the actual energy emitted I to that which a blackbody would emit\\n16\\n\\n```\\n\\n',\n",
       "   'metadata': {}},\n",
       "  {'cell_type': 'markdown',\n",
       "   'source': '# Slide 16\\n```\\n\\nGreybodies: An approximation\\nTotal blackbody flux (area):\\nThis object only emits in the green wavenumber band. Green Area is 95 W/m2\\nThe greybody emissivity is:\\nε = 95/188 = 0.5\\nT=240 K\\n17\\n\\n```\\n\\n',\n",
       "   'metadata': {}},\n",
       "  {'cell_type': 'markdown',\n",
       "   'source': '# Slide 17\\n```\\n\\nT=300 K\\nTotal blackbody flux (area):\\nThis object only emits in the green wavenumber band. Green Area is 227 W/m2\\nThe greybody emissivity is:\\nε = 227/460 = 0.5\\nσT4 = 460 W/m2\\nEmissivity is NOT a function of temperature\\n18\\n\\n```\\n\\n',\n",
       "   'metadata': {}},\n",
       "  {'cell_type': 'markdown',\n",
       "   'source': '# Slide 18\\n```\\n\\nGrey body radiation\\n19\\nTrue\\nFalse\\nThe emissivity of a gray body must be less than 1.\\n\\n```\\n\\n',\n",
       "   'metadata': {}},\n",
       "  {'cell_type': 'markdown',\n",
       "   'source': '# Slide 19\\n```\\n\\nBlack vs. grey bodies\\nWhat is the point of the greybody approximation?  We get to ignore the details of the complex absorption/emission bands, and approximate their effect by a single number, the greybody emissivity e.  In climate models the radiation calculations typically use about 20-30 bands spanning the long and short wavelengths.\\n20\\n\\n```\\n\\n',\n",
       "   'metadata': {}},\n",
       "  {'cell_type': 'markdown',\n",
       "   'source': '# Slide 20\\n```\\n\\nThe world in the infrared\\nIR vs. visible video\\nCrucial point – at 2:30 he puts a sheet of paper (cold) over his face (hot) – note that the paper absorbs the IR flux from his face and emits much less – it is absorbing radiation and heating up.  This is the definition of the greenhouse effect.\\n21\\n\\n```\\n\\n',\n",
       "   'metadata': {}},\n",
       "  {'cell_type': 'markdown',\n",
       "   'source': '# Slide 21\\n```\\n\\nThe story so far:\\n22\\n\\n```\\n\\n',\n",
       "   'metadata': {}},\n",
       "  {'cell_type': 'markdown',\n",
       "   'source': \"# Slide 22\\n```\\n\\nGoals:\\nApply systems dynamics concepts of stock and flow to Earth’s energy budget.   dE/dt = Idown + Iup  = Idown - |Iup|\\nFigure out the incoming solar radiation for Earth and other planets\\nCompare reflectivity of different parts of the Earth system, both on the surface and in the atmosphere.\\nPredict the impacts of altering solar energy or reflectivity on flows of energy in Earth's climate system, and therefore Earth's temperature (left side of Earth's energy budget diagram)\\nClassify particular changes in incoming solar radiation and albedo as forcings or feedbacks.\\nCalculate planetary temperature response to an instantaneous forcing due to the Planck feedback alone.\\nDay 4: Earth’s Radiation Balance\\nIncoming solar radiation and albedo\\n23\\n\\n```\\n\\n\",\n",
       "   'metadata': {}},\n",
       "  {'cell_type': 'markdown',\n",
       "   'source': '# Slide 23\\n```\\n\\nEarth’s Climate - A Stock & Flow analogy\\n24\\nThe stock (volume of water) in the bathtub changes according to:\\ndV/dt = Iin - Iout\\nwhere the outflow depends on the current stock:\\nIout = (const) x h\\nThe “Bathtub” Balance\\n*notice the feedback mechanism*\\n\\n```\\n\\n',\n",
       "   'metadata': {}},\n",
       "  {'cell_type': 'markdown',\n",
       "   'source': '# Slide 24\\n```\\n\\nEarth’s Climate - A Stock & Flow analogy\\n25\\nThe stock (volume of water) in the bathtub changes according to:\\ndV/dt = Iin - Iout\\nwhere the outflow depends on the current stock:\\nIout = (const) x h\\nThe “Bathtub” Balance\\n\\n```\\n\\n',\n",
       "   'metadata': {}},\n",
       "  {'cell_type': 'markdown',\n",
       "   'source': '# Slide 25\\n```\\n\\nHow much energy does the Earth receive from the Sun???\\nLet’s calculate the solar constant (use pen & paper)\\nNeed following information\\nSun outputs 3.8 x 1026 W   (1W = 1J/s)\\nMean sun-earth distance is 150 x 109 m\\nArea of the distance-sphere is 2.8 x 1023 m2\\nEnergy received at the Earth is known as the “solar constant” and is   S = 1,360 W/m2\\nHow much energy does the Earth absorb? Need radius of the earth  R = 6.4 x 106 m\\n26\\n\\n```\\n\\n',\n",
       "   'metadata': {}},\n",
       "  {'cell_type': 'markdown',\n",
       "   'source': '# Slide 26\\n```\\n\\nImage credit: NASA\\nSolar constant is 1360 W/m2\\nAt the top of the atmosphere directly facing the Sun, Earth receives 1360 W/m2\\nThe Earth “blocks” an area in space equal to the area of a circle with Earth’s radius (pR2)\\nEach square meter of that imaginary circle gets 1360 W\\nTotal energy received proportional to area of that circle\\nThe TOTAL energy Earth captures is  1360 x pR2   [W]\\nDistribute total energy received over the surface area of the Earth: (1360 x pR2) / 4pR2   =  1360 / 4  =  340 [W/m2].\\nAside: Trenberth was working with about 1365 W/m2 for the solar constant \\uf0e0\\uf020341 W/m2\\n27\\n\\n```\\n\\n',\n",
       "   'metadata': {}},\n",
       "  {'cell_type': 'markdown',\n",
       "   'source': '# Slide 27\\n```\\n\\nCLICKER: Earth’s radiation balance\\n28\\nIf the distance between the Earth and the Sun doubles\\nAND\\nthe radius of the Earth shrinks to half its current value,\\nhow will the amount of radiation per unit area (W/m2) received at the surface of the Earth change?\\nA. Decreases by a factor of 2\\nB. Decreases by a factor of 4\\nC. Decreases by a factor of 8\\nD. Decreases by a factor of 16\\n\\n```\\n\\n',\n",
       "   'metadata': {'ctype': 'question', 'quesnum': 0}},\n",
       "  {'cell_type': 'markdown',\n",
       "   'source': '# Slide 28\\n```\\n\\nCLICKER: Heating rates? \\nAt what rate does this atmosphere (the area between the lines) heat up (+) or cool down (-)?\\n29\\n-10 Wm-2\\n-20 Wm-2\\n+20 Wm-2\\n+50 Wm-2\\n+70 Wm-2\\n\\n```\\n\\n',\n",
       "   'metadata': {'ctype': 'question', 'quesnum': 1}},\n",
       "  {'cell_type': 'markdown',\n",
       "   'source': '# Slide 29\\n```\\n\\nWorksheet: The Earth as a Stock and Flow Problem\\n30\\n\\n```\\n\\n',\n",
       "   'metadata': {}},\n",
       "  {'cell_type': 'markdown',\n",
       "   'source': '# Slide 30\\n```\\n\\nFocus on Albedo – left side of diagram\\n31\\n\\n```\\n\\n',\n",
       "   'metadata': {}},\n",
       "  {'cell_type': 'markdown',\n",
       "   'source': '# Slide 31\\n```\\n\\nSummary\\nBalances of flows of energy in, out, and within Earth’s climate system determine Earth’s temperature.\\nWe use the “grey body approximation” to estimate the emissivity/absorptivity of the atmosphere\\nKirchoff’s law guarantees that ε=abs because otherwise we violate the 2nd law of thermodynamics\\nSolids, liquids and gasses emit radiation according to their temperature and their emissivity via the Stefan-Boltzman equation:  I = εσT4\\nThese same objects absorb radiation with constant abs=ε that is independent of temperature.\\nThat means that cold air can absorb radiation from a warm surface, but not re-radiate all that it has absorbed  This is heating because of the imbalance is called the “greenhouse effect”\\nThis doesn’t violate the 2nd law because this system is not isolated – the surface is warmer that the atmosphere because it is absorbing sunlight that passes straight through air.\\n32\\n\\n```\\n\\n',\n",
       "   'metadata': {}},\n",
       "  {'cell_type': 'markdown',\n",
       "   'source': '# Slide 32\\n```\\n\\n“If we were to approximate the average albedo of each of the hemispheres of the Earth, would we get significantly similar quantities?”\\nimage: NASA\\nEarth’s surface if the planet were cloud-free\\nWhich parts of the Earth are MORE reflective?\\nWhich parts of the Earth are LESS reflective?\\nWhat is the single largest reason that the Earth’s albedo is relatively LOW?\\n33\\n\\n```\\n\\n',\n",
       "   'metadata': {}},\n",
       "  {'cell_type': 'markdown',\n",
       "   'source': '# Slide 33\\n```\\n\\n34\\n\\n```\\n\\n',\n",
       "   'metadata': {}},\n",
       "  {'cell_type': 'markdown',\n",
       "   'source': '# Slide 34\\n```\\n\\nNASA\\nCLICKER: What if the forest expanded into the desert area (and nothing else changed)?\\nReflectivity would _______.\\nNASA\\nA. Increase       B. Decrease       C. Stay the same\\n35\\n\\n```\\n\\n',\n",
       "   'metadata': {'ctype': 'question', 'quesnum': 2}},\n",
       "  {'cell_type': 'markdown',\n",
       "   'source': '# Slide 35\\n```\\n\\nNASA\\nCLICKER: What if sea level rose (and nothing else changed)? Reflectivity would _______.\\nNASA\\nA. Increase       B. Decrease       C. Stay the same\\n36\\n\\n```\\n\\n',\n",
       "   'metadata': {'ctype': 'question', 'quesnum': 3}},\n",
       "  {'cell_type': 'markdown',\n",
       "   'source': '# Slide 36\\n```\\n\\nSome  Surface Albedos\\nNASA\\nFrom http://www.eoearth.org/view/article/149954/\\nCompare these\\n37\\n\\n```\\n\\n',\n",
       "   'metadata': {}},\n",
       "  {'cell_type': 'markdown',\n",
       "   'source': '# Slide 37\\n```\\n\\nCloud Albedo is Variable\\nNASA\\nTHICK: more reflective (0.5-0.7)\\nTHIN: less reflective (0.1-0.5)\\n38\\nCloud reflectivity is one of the big unknowns that make predictions about future climate uncertain.  Will future cloud albedos be bigger or smaller?\\nThe reflectivity of clouds is determined by water droplet density AND droplet size. Drop-for-drop, smaller drops have larger surface area to volume ratio. \\nMore SA = greater reflectivity.\\n\\n```\\n\\n',\n",
       "   'metadata': {}},\n",
       "  {'cell_type': 'markdown',\n",
       "   'source': '# Slide 38\\n```\\n\\nAerosol Albedo -\\nNASA\\nMORE reflective: Sea salt particles, Sulfate aerosols, Mineral dust\\nLESS reflective: Black carbon (ie. “soot”)\\n39\\n\\n```\\n\\n',\n",
       "   'metadata': {}},\n",
       "  {'cell_type': 'markdown',\n",
       "   'source': '# Slide 39\\n```\\n\\nCLICKER: What if sunspots change incoming solar radiation?\\nA. Forcing        B. Feedback        C. Could be either\\n40\\n\\n```\\n\\n',\n",
       "   'metadata': {'ctype': 'question', 'quesnum': 4}},\n",
       "  {'cell_type': 'markdown',\n",
       "   'source': '# Slide 40\\n```\\n\\nCLICKER: What if ice on Earth’s surface melts?\\nA. Forcing        B. Feedback        C. Could be either\\n41\\n\\n```\\n\\n',\n",
       "   'metadata': {'ctype': 'question', 'quesnum': 5}},\n",
       "  {'cell_type': 'markdown',\n",
       "   'source': '# Slide 41\\n```\\n\\nCLICKER: What if coal-burning increases sulfate aerosols?\\nA. Forcing        B. Feedback        C. Could be either\\n42\\n\\n```\\n\\n',\n",
       "   'metadata': {'ctype': 'question', 'quesnum': 6}},\n",
       "  {'cell_type': 'markdown',\n",
       "   'source': '# Slide 42\\n```\\n\\nIDENTIFY: “Amplifying” or “Stabilizing”\\nNecessary to distinguish between two types of feedback mechanisms:\\nThe initial perturbation is dampened by the feedback mechanism \\uf0e0 STABILIZING (negative)\\nThe initial change (perturbation) is continually amplified by the feedback mechanism \\uf0e0 AMPLIFYING (positive)\\nWe will revisit this on Day 11 - For now, let’s do some practice\\n43\\n\\n```\\n\\n',\n",
       "   'metadata': {}},\n",
       "  {'cell_type': 'markdown',\n",
       "   'source': '# Slide 43\\n```\\n\\nCLICKER:  Clouds are involved in several different feedbacks.  Is this one amplifying or stabilizing?\\nWarming\\nMore \\nwater in a warmer atmosphere\\nGreater cloud low cover\\nGreater reflectivity\\n?\\nPerturbation\\nA. Amplifying\\nB. Stabilizing\\nC. Could be either\\n?\\n44\\n\\n```\\n\\n',\n",
       "   'metadata': {'ctype': 'question', 'quesnum': 7}},\n",
       "  {'cell_type': 'markdown',\n",
       "   'source': '# Slide 44\\n```\\n\\nWarming\\nMore \\nwater in a warmer atmosphere\\nGreater cloud cover\\nGreater reflectivity\\nCooler temperatures counteract warming\\nPerturbation\\nStabilizing!\\n45\\n\\n```\\n\\n',\n",
       "   'metadata': {}},\n",
       "  {'cell_type': 'markdown',\n",
       "   'source': '# Slide 45\\n```\\n\\nCLICKER:  The Planck Feedback.  Amplifying or Stabilizing?\\nA. Amplifying\\nB. Stabilizing\\nC. Could be either\\n46\\n\\n```\\n\\n',\n",
       "   'metadata': {'ctype': 'question', 'quesnum': 8}},\n",
       "  {'cell_type': 'markdown',\n",
       "   'source': '# Slide 46\\n```\\n\\nCLICKER:  The Planck Feedback.  Amplifying or Stabilizing?\\nDecrease energy inflow\\nImbalance of inflow and outflow of energy\\nEarth’s temperature ???\\nRadiation\\nemitted ???\\n???\\nPerturbation\\n???\\nA. Amplifying\\nB. Stabilizing\\nC. Could be either\\n47\\n\\n```\\n\\n',\n",
       "   'metadata': {'ctype': 'question', 'quesnum': 9}},\n",
       "  {'cell_type': 'markdown',\n",
       "   'source': '# Slide 47\\n```\\n\\nThe Planck Feedback:  Amplifying or Stabilizing?\\n48\\n\\n```\\n\\n',\n",
       "   'metadata': {}},\n",
       "  {'cell_type': 'markdown',\n",
       "   'source': '# Slide 48\\n```\\n\\nTemperature and sea ice trends due to both forcings (CO2, aerosols) and weather (wind patterns)\\naerosol cooling\\nwind transport through Fram strait\\n49\\n\\n```\\n\\n',\n",
       "   'metadata': {}},\n",
       "  {'cell_type': 'markdown',\n",
       "   'source': '# Slide 49\\n```\\n\\nunused\\n50\\n\\n```\\n\\n',\n",
       "   'metadata': {}},\n",
       "  {'cell_type': 'markdown',\n",
       "   'source': \"# Slide 50\\n```\\n\\n51\\nI am confused about question 3. Why do we need to average over the total surface area of the Earth to do this question?? The numbers given are already the averages.\\nHow is the radius from the sun a determining factor in the solar constant?\\nCan you go over the calculations in more detail during class? We can do that\\nWhy is it ok to assume that the earth's albedo is 0.3, when the surface areas of the different parts of Earth are so different (i.e. ALL desert, ALL snow, some land, some snow etc...)?   Averaging - it’s a model\\nIf we were to approximate the average albedo of each of the hemispheres of the Earth, would we get significantly similar quantities?  Let’s come back to this\\nAs well, why are power and energy used interchangeably in climate calculations?\\xa0Which symbols do I use?  Context matters - be flexible - check units\\nQuestion 4 was difficult, I had difficulty understanding what the question was asking and how to approach it.  Do it at the end of class, IF we have time\\nHow was Stefan Boltzmann inspired to study this?\\nJosef Stefan  and  Ludwig Boltzman\\nDay 4 PreClass Quiz Feedback\\n\\n```\\n\\n\",\n",
       "   'metadata': {}},\n",
       "  {'cell_type': 'markdown',\n",
       "   'source': '# Slide 51\\n```\\n\\nThe Planck Feedback (I)\\nFIRST:  No sun \\uf0e0 Earth emits 0.06 W/m2 (geothermal source)\\nRecall: σ = 5.67 x 10-8 W/m2/K.  Assume ε = 1.  No atmosphere.\\nCLICKER:  What is Earth’s temperature?\\nA.   About 6 K\\nB.   About 32 K\\nC.   About 112 K\\nD.   About 273K\\n52\\n\\n```\\n\\n',\n",
       "   'metadata': {'ctype': 'question', 'quesnum': 10}},\n",
       "  {'cell_type': 'markdown',\n",
       "   'source': '# Slide 52\\n```\\n\\nNEXT:  Turn on Sun\\nSuddenly, Earth receives 341 W/m2.\\nAlbedo = 0.3\\nNo atmosphere\\nAssume ε = 1\\nCLICKER:  What will happen?\\nEarth will immediately become 278 K\\nEarth will warm, over time, to 278 K\\nEarth will immediately become 255 K\\nEarth will warm, over time, to 255K\\nEarth will warm up, but we can’t tell how much.\\n53\\n\\n```\\n',\n",
       "   'metadata': {'ctype': 'question', 'quesnum': 11}}]}"
      ]
     },
     "execution_count": 7,
     "metadata": {},
     "output_type": "execute_result"
    }
   ],
   "source": [
    "nb\n"
   ]
  },
  {
   "cell_type": "markdown",
   "metadata": {
    "ctype": "answer",
    "quesnum": 6
   },
   "source": [
    "q6 answer here"
   ]
  },
  {
   "cell_type": "code",
   "execution_count": 9,
   "metadata": {},
   "outputs": [
    {
     "data": {
      "text/plain": [
       "{'cell_type': 'markdown',\n",
       " 'source': '# Slide 27\\n```\\n\\nCLICKER: Earth’s radiation balance\\n28\\nIf the distance between the Earth and the Sun doubles\\nAND\\nthe radius of the Earth shrinks to half its current value,\\nhow will the amount of radiation per unit area (W/m2) received at the surface of the Earth change?\\nA. Decreases by a factor of 2\\nB. Decreases by a factor of 4\\nC. Decreases by a factor of 8\\nD. Decreases by a factor of 16\\n\\n```\\n\\n',\n",
       " 'metadata': {'ctype': 'question', 'quesnum': 0}}"
      ]
     },
     "execution_count": 9,
     "metadata": {},
     "output_type": "execute_result"
    }
   ],
   "source": [
    "clickers[0]"
   ]
  },
  {
   "cell_type": "code",
   "execution_count": 10,
   "metadata": {},
   "outputs": [],
   "source": [
    "nb['cells'] = clickers"
   ]
  },
  {
   "cell_type": "code",
   "execution_count": null,
   "metadata": {},
   "outputs": [],
   "source": []
  }
 ],
 "metadata": {
  "kernelspec": {
   "display_name": "Python 3",
   "language": "python",
   "name": "python3"
  },
  "language_info": {
   "codemirror_mode": {
    "name": "ipython",
    "version": 3
   },
   "file_extension": ".py",
   "mimetype": "text/x-python",
   "name": "python",
   "nbconvert_exporter": "python",
   "pygments_lexer": "ipython3",
   "version": "3.8.6"
  }
 },
 "nbformat": 4,
 "nbformat_minor": 4
}
