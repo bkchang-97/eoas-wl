{
 "cells": [
  {
   "cell_type": "markdown",
   "metadata": {
    "ctype": "question",
    "lines_to_next_cell": 2,
    "quesnum": 0
   },
   "source": [
    "\n",
    "# Slide 0\n",
    "```\n",
    "\n",
    "Goals:\n",
    "Define stock, flow, and feedback\n",
    "Explain how the combined history of inflows and outflows determines a stock\n",
    "Predict what happens to stocks and flows when a system is perturbed\n",
    "Construct examples of both amplifying and stabilizing feedbacks.\n",
    "Systems: Stocks, Flows,\n",
    "& Feedbacks\n",
    "1\n",
    "\n",
    "```\n",
    "\n",
    "\n",
    "\n",
    "\n",
    "\n",
    "<img src=\"media/Day02_Systems_2019t2_allslides-slide_0-000.png\">\n"
   ]
  },
  {
   "cell_type": "markdown",
   "metadata": {
    "ctype": "answer",
    "quesnum": 0
   },
   "source": [
    "q0 answer here"
   ]
  },
  {
   "cell_type": "markdown",
   "metadata": {
    "ctype": "question",
    "quesnum": 1
   },
   "source": [
    "# Slide 1\n",
    "```\n",
    "\n",
    "Climate news\n",
    "Hurricane Dorian stalls over the Bahamas\n",
    "Here’s what the original research looks like:\n",
    "Hall and Kossin – 2019\n",
    "Fires in Australia\n",
    "2\n",
    "\n",
    "```\n",
    "\n"
   ]
  },
  {
   "cell_type": "markdown",
   "metadata": {
    "ctype": "answer",
    "quesnum": 1
   },
   "source": [
    "q1 answer here"
   ]
  },
  {
   "cell_type": "markdown",
   "metadata": {
    "ctype": "question",
    "quesnum": 2
   },
   "source": [
    "# Slide 2\n",
    "```\n",
    "\n",
    "Question: Why don’t we put the answers to the clicker questions up on canvas?\n",
    "3\n",
    "\n",
    "```\n"
   ]
  },
  {
   "cell_type": "markdown",
   "metadata": {
    "ctype": "answer",
    "quesnum": 2
   },
   "source": [
    "q2 answer here"
   ]
  },
  {
   "cell_type": "markdown",
   "metadata": {
    "ctype": "question",
    "quesnum": 3
   },
   "source": [
    "\n",
    "# Slide 3\n",
    "```\n",
    "\n",
    "Worksheets from Day 1: Sea ice\n",
    "Stories:  Attempts to connect these different data through various processes.  Common story: “CO2 causes T to rise, which causes sea ice to melt, which causes sea level to rise”  [one problematic link…]\n",
    "4\n",
    "\n",
    "```\n",
    "\n",
    "\n",
    "\n",
    "\n",
    "\n",
    "<img src=\"media/Day02_Systems_2019t2_allslides-slide_3-001.png\">\n"
   ]
  },
  {
   "cell_type": "markdown",
   "metadata": {
    "ctype": "answer",
    "quesnum": 3
   },
   "source": [
    "q3 answer here"
   ]
  },
  {
   "cell_type": "markdown",
   "metadata": {
    "ctype": "question",
    "lines_to_next_cell": 2,
    "quesnum": 4
   },
   "source": [
    "\n",
    "# Slide 4\n",
    "```\n",
    "\n",
    "Questions/Comments: Worksheet\n",
    "1. Sea ice versus land ice \n",
    "   – impact on sea level\n",
    "http://commons.wikimedia.org/wiki/File:Menthaleau.jpg\n",
    "Once this ice melts in this glass, how will the water level be different?  Water level will be ______before.\n",
    "higher than\n",
    "lower than\n",
    "the same as\n",
    "5\n",
    "\n",
    "```\n",
    "\n",
    "\n",
    "\n",
    "\n",
    "\n",
    "<img src=\"media/Day02_Systems_2019t2_allslides-slide_4-002.png\">\n"
   ]
  },
  {
   "cell_type": "markdown",
   "metadata": {
    "ctype": "answer",
    "quesnum": 4
   },
   "source": [
    "q4 answer here"
   ]
  },
  {
   "cell_type": "markdown",
   "metadata": {
    "ctype": "question",
    "quesnum": 5
   },
   "source": [
    "# Slide 5\n",
    "```\n",
    "\n",
    "More on buoyancy\n",
    "Suppose that ice was 70% as dense as water.  If you froze a block of liquid water, how much of the volume would be above the surface?\n",
    "\n",
    "A) 10%\n",
    "B) 30%\n",
    "C) 50%\n",
    "D) 70%\n",
    "    E)  90%\n",
    "6\n",
    "\n",
    "```\n",
    "\n"
   ]
  },
  {
   "cell_type": "markdown",
   "metadata": {
    "ctype": "answer",
    "quesnum": 5
   },
   "source": [
    "q5 answer here"
   ]
  },
  {
   "cell_type": "markdown",
   "metadata": {
    "ctype": "question",
    "quesnum": 6
   },
   "source": [
    "# Slide 6\n",
    "```\n",
    "\n",
    "Questions/Comments: Pre-Class Quiz\n",
    "Stoichiometry practice\n",
    "Say we have 100 gigatons of H2O.\n",
    "How many gigatons of O is contained within that 100 Gton H2O?\n",
    "2\n",
    "89\n",
    "98\n",
    "100\n",
    "102\n",
    "Quiz question involved the mass of C in CO2.\n",
    "You will need to be able to go back and forth between mass of C and mass of CO2 in this course.\n",
    "7\n",
    "\n",
    "```\n"
   ]
  },
  {
   "cell_type": "markdown",
   "metadata": {
    "ctype": "answer",
    "quesnum": 6
   },
   "source": [
    "q6 answer here"
   ]
  },
  {
   "cell_type": "markdown",
   "metadata": {
    "ctype": "question",
    "quesnum": 7
   },
   "source": [
    "\n",
    "# Slide 7\n",
    "```\n",
    "\n",
    "Caldeira, 2012- Pre class reading\n",
    "“One of the greatest uncertainties in climate prediction is the amount of CO2 that will ultimately end up in the atmosphere”\n",
    "Some text from the Dec 2015 Paris agreement:\n",
    "Emphasizing with serious concern the urgent need to address the significant gap between the aggregate effect of Parties’ mitigation pledges in terms of global annual emissions of greenhouse gases by 2020 and aggregate emission pathways consistent with holding the increase in the global average temperature to well below 2 °C above pre-industrial levels and pursuing efforts to limit the temperature increase to 1.5 °C,\n",
    "8\n",
    "\n",
    "```\n",
    "\n",
    "\n",
    "\n",
    "\n",
    "\n",
    "<img src=\"media/Day02_Systems_2019t2_allslides-slide_7-003.png\">\n"
   ]
  },
  {
   "cell_type": "markdown",
   "metadata": {
    "ctype": "answer",
    "quesnum": 7
   },
   "source": [
    "q7 answer here"
   ]
  },
  {
   "cell_type": "markdown",
   "metadata": {
    "ctype": "question",
    "quesnum": 8
   },
   "source": [
    "\n",
    "# Slide 8\n",
    "```\n",
    "\n",
    "Figure: Cronin & Gonzalez, 2007\n",
    "We’ll work with this plot during class.  See post-class slides for more.\n",
    "9\n",
    "\n",
    "```\n",
    "\n",
    "\n",
    "\n",
    "\n",
    "\n",
    "<img src=\"media/Day02_Systems_2019t2_allslides-slide_8-004.png\">\n"
   ]
  },
  {
   "cell_type": "markdown",
   "metadata": {
    "ctype": "answer",
    "quesnum": 8
   },
   "source": [
    "q8 answer here"
   ]
  },
  {
   "cell_type": "markdown",
   "metadata": {
    "ctype": "question",
    "quesnum": 9
   },
   "source": [
    "\n",
    "# Slide 9\n",
    "```\n",
    "\n",
    "Figure: Cronin & Gonzalez, 2007\n",
    "Clicker Q: The graph below shows the numbers of people entering and leaving a store each minute. During which minute did the most people enter the store?\n",
    "Minute 4\n",
    "Minute 8\n",
    "Minute 13\n",
    "Minute 21\n",
    "Cannot be determined\n",
    "10\n",
    "\n",
    "```\n",
    "\n",
    "\n",
    "\n",
    "\n",
    "\n",
    "<img src=\"media/Day02_Systems_2019t2_allslides-slide_9-005.png\">\n"
   ]
  },
  {
   "cell_type": "markdown",
   "metadata": {
    "ctype": "answer",
    "quesnum": 9
   },
   "source": [
    "q9 answer here"
   ]
  },
  {
   "cell_type": "markdown",
   "metadata": {
    "ctype": "question",
    "quesnum": 10
   },
   "source": [
    "\n",
    "# Slide 10\n",
    "```\n",
    "\n",
    "Figure: Cronin & Gonzalez, 2007\n",
    "Clicker Q: The graph below shows the numbers of people entering and leaving a store each minute. During which minute did the most people leave the store?\n",
    "Minute 4\n",
    "Minute 8\n",
    "Minute 17\n",
    "Minute 21\n",
    "Cannot be determined\n",
    "11\n",
    "\n",
    "```\n",
    "\n",
    "\n",
    "\n",
    "\n",
    "\n",
    "<img src=\"media/Day02_Systems_2019t2_allslides-slide_10-006.png\">\n"
   ]
  },
  {
   "cell_type": "markdown",
   "metadata": {
    "ctype": "answer",
    "quesnum": 10
   },
   "source": [
    "q10 answer here"
   ]
  },
  {
   "cell_type": "markdown",
   "metadata": {
    "ctype": "question",
    "quesnum": 11
   },
   "source": [
    "\n",
    "# Slide 11\n",
    "```\n",
    "\n",
    "Figure: Cronin & Gonzalez, 2007\n",
    "Clicker Q: The graph below shows the numbers of people entering and leaving a store each minute. During which minute were the MOST people in the store?\n",
    "Minute 4\n",
    "Minute 8\n",
    "Minute 13\n",
    "Minute 17\n",
    "Cannot be determined\n",
    "12\n",
    "\n",
    "```\n",
    "\n",
    "\n",
    "\n",
    "\n",
    "\n",
    "<img src=\"media/Day02_Systems_2019t2_allslides-slide_11-007.png\">\n"
   ]
  },
  {
   "cell_type": "markdown",
   "metadata": {
    "ctype": "answer",
    "quesnum": 11
   },
   "source": [
    "q11 answer here"
   ]
  },
  {
   "cell_type": "markdown",
   "metadata": {
    "ctype": "question",
    "lines_to_next_cell": 2,
    "quesnum": 12
   },
   "source": [
    "\n",
    "# Slide 12\n",
    "```\n",
    "\n",
    "Figure: Cronin & Gonzalez, 2007\n",
    "Clicker Q: The graph below shows the numbers of people entering and leaving a store each minute. During which minute were the FEWEST people in the store?\n",
    "Minute 1\n",
    "Minute 13\n",
    "Minute 17\n",
    "Minute 30\n",
    "Cannot be determined\n",
    "13\n",
    "\n",
    "```\n",
    "\n",
    "\n",
    "\n",
    "\n",
    "\n",
    "<img src=\"media/Day02_Systems_2019t2_allslides-slide_12-008.png\">\n"
   ]
  },
  {
   "cell_type": "markdown",
   "metadata": {
    "ctype": "answer",
    "quesnum": 12
   },
   "source": [
    "q12 answer here"
   ]
  },
  {
   "cell_type": "markdown",
   "metadata": {
    "ctype": "question",
    "quesnum": 13
   },
   "source": [
    "# Slide 13\n",
    "```\n",
    "\n",
    "Systems dynamics: Stock & Flow\n",
    "STOCK:  Amount or quantity of something residing in a particular place at a particular time\n",
    "apples in a basket, water in a glacier, fish in the sea, knowledge in your brain…\n",
    "FLOW:  The rate at which stuff adds or subtracts from a stock.  Since flow is a RATE, there is always an element of TIME included.\n",
    "apples picked per hour, water melted per month, fish born per year,\n",
    "knowledge GAINED PER 90MIN EOSC340 CLASS\n",
    "INFLOW:  The rate at which stuff flows IN.\n",
    "OUTFLOW:  The rate at which stuff flows OUT.\n",
    "The STOCK, at any moment, is the result of the COMBINED HISTORY of INFLOW and OUTFLOW\n",
    "Inflow\n",
    "Outflow\n",
    "STOCK\n",
    "14\n",
    "\n",
    "```\n",
    "\n"
   ]
  },
  {
   "cell_type": "markdown",
   "metadata": {
    "ctype": "answer",
    "quesnum": 13
   },
   "source": [
    "q13 answer here"
   ]
  },
  {
   "cell_type": "markdown",
   "metadata": {
    "ctype": "question",
    "quesnum": 14
   },
   "source": [
    "# Slide 14\n",
    "```\n",
    "\n",
    "Systems dynamics: Stock & Flow\n",
    "The RATE AT WHICH THE STOCK CHANGES, is the difference between the INFLOW & the OUTFLOW\n",
    "If Flowin = Flowout\n",
    "no change in stock over time\n",
    " EQUILIBRIUM\n",
    "If Flowin ≠ Flowout  stock will change over time\n",
    "15\n",
    "\n",
    "```\n",
    "\n"
   ]
  },
  {
   "cell_type": "markdown",
   "metadata": {
    "ctype": "answer",
    "quesnum": 14
   },
   "source": [
    "q14 answer here"
   ]
  },
  {
   "cell_type": "markdown",
   "metadata": {
    "ctype": "question",
    "quesnum": 15
   },
   "source": [
    "# Slide 15\n",
    "```\n",
    "\n",
    "Stock & Flow Worksheet\n",
    "Work in pairs or 3s.  Once you have a pair or a 3, raise your hands and we’ll get you a worksheet\n",
    "16\n",
    "\n",
    "```\n",
    "\n"
   ]
  },
  {
   "cell_type": "markdown",
   "metadata": {
    "ctype": "answer",
    "quesnum": 15
   },
   "source": [
    "q15 answer here"
   ]
  },
  {
   "cell_type": "markdown",
   "metadata": {
    "ctype": "question",
    "quesnum": 16
   },
   "source": [
    "# Slide 16\n",
    "```\n",
    "\n",
    "Worksheet PROBLEM 1 clicker:\n",
    "17\n",
    "\n",
    "```\n",
    "\n"
   ]
  },
  {
   "cell_type": "markdown",
   "metadata": {
    "ctype": "answer",
    "quesnum": 16
   },
   "source": [
    "q16 answer here"
   ]
  },
  {
   "cell_type": "markdown",
   "metadata": {
    "ctype": "question",
    "quesnum": 17
   },
   "source": [
    "# Slide 17\n",
    "```\n",
    "\n",
    "Worksheet PROBLEM 2 clicker:\n",
    "Worksheet problem 2:\n",
    "At what minute are inflow and outflow equal?\n",
    "0\n",
    "1\n",
    "2\n",
    "18\n",
    "\n",
    "```\n",
    "\n"
   ]
  },
  {
   "cell_type": "markdown",
   "metadata": {
    "ctype": "answer",
    "quesnum": 17
   },
   "source": [
    "q17 answer here"
   ]
  },
  {
   "cell_type": "markdown",
   "metadata": {
    "ctype": "question",
    "quesnum": 18
   },
   "source": [
    "# Slide 18\n",
    "```\n",
    "\n",
    "Worksheet PROBLEM 2 clicker:\n",
    "19\n",
    "\n",
    "```\n",
    "\n"
   ]
  },
  {
   "cell_type": "markdown",
   "metadata": {
    "ctype": "answer",
    "quesnum": 18
   },
   "source": [
    "q18 answer here"
   ]
  },
  {
   "cell_type": "markdown",
   "metadata": {
    "ctype": "question",
    "quesnum": 19
   },
   "source": [
    "# Slide 19\n",
    "```\n",
    "\n",
    "Worksheet PROBLEM 2 clicker:\n",
    "20\n",
    "\n",
    "```\n",
    "\n"
   ]
  },
  {
   "cell_type": "markdown",
   "metadata": {
    "ctype": "answer",
    "quesnum": 19
   },
   "source": [
    "q19 answer here"
   ]
  },
  {
   "cell_type": "markdown",
   "metadata": {
    "ctype": "question",
    "quesnum": 20
   },
   "source": [
    "# Slide 20\n",
    "```\n",
    "\n",
    "Worksheet PROBLEM 3 clicker:\n",
    "21\n",
    "\n",
    "```\n",
    "\n"
   ]
  },
  {
   "cell_type": "markdown",
   "metadata": {
    "ctype": "answer",
    "quesnum": 20
   },
   "source": [
    "q20 answer here"
   ]
  },
  {
   "cell_type": "markdown",
   "metadata": {
    "ctype": "question",
    "quesnum": 21
   },
   "source": [
    "# Slide 21\n",
    "```\n",
    "\n",
    "FEEDBACKS:  Amplifying vs Stabilizing\n",
    "AMPLIFYING FEEDBACK: A response to a forcing that pushes the system in THE SAME direction as the forcing pushed it. E.g. if a forcing increased global temperature, an amplifying feedback would increase global temperature further, which would keep the feedback process going.\n",
    "STABILIZING FEEDBACK: A response to a forcing that pushes the system in THE OPPOSITE direction as the forcing pushed it. E.g. if a forcing increased global temperature, a stabilizing feedback would respond and DEcrease global temperature, which would stabilize the system (not necessarily at the original T).\n",
    "Note: Some of you know “amplifying” feedbacks as “positive” feedbacks, and “stabilizing” feedbacks as “negative” feedbacks\n",
    "22\n",
    "\n",
    "```\n"
   ]
  },
  {
   "cell_type": "markdown",
   "metadata": {
    "ctype": "answer",
    "quesnum": 21
   },
   "source": [
    "q21 answer here"
   ]
  },
  {
   "cell_type": "markdown",
   "metadata": {
    "ctype": "question",
    "quesnum": 22
   },
   "source": [
    "\n",
    "# Slide 22\n",
    "```\n",
    "\n",
    "Clicker Q:\n",
    "Amplifying\n",
    "Stabilizing\n",
    "No idea\n",
    "Is this an amplifying or stabilizing feedback?\n",
    "23\n",
    "\n",
    "```\n",
    "\n",
    "\n",
    "\n",
    "\n",
    "\n",
    "<img src=\"media/Day02_Systems_2019t2_allslides-slide_22-013.png\">\n"
   ]
  },
  {
   "cell_type": "markdown",
   "metadata": {
    "ctype": "answer",
    "quesnum": 22
   },
   "source": [
    "q22 answer here"
   ]
  },
  {
   "cell_type": "markdown",
   "metadata": {
    "ctype": "question",
    "lines_to_next_cell": 2,
    "quesnum": 23
   },
   "source": [
    "\n",
    "# Slide 23\n",
    "```\n",
    "\n",
    "Now with math\n",
    "You have 5 gigatons of carbon and two sources, one adding 0.5 Gigatons per year and another source that is increasing every year. In other words, something like:\n",
    "24\n",
    "After 10 years how many Gtons of carbon are there?  i.e.  what is y(10)?  Pick the closest answer.\n",
    "2 Gt\n",
    "5 Gt\n",
    "15 Gt\n",
    "20 Gt\n",
    "A little help please\n",
    "\n",
    "```\n",
    "\n",
    "\n",
    "\n",
    "\n",
    "\n",
    "<img src=\"media/Day02_Systems_2019t2_allslides-slide_23-014.png\">\n"
   ]
  },
  {
   "cell_type": "markdown",
   "metadata": {
    "ctype": "answer",
    "quesnum": 23
   },
   "source": [
    "q23 answer here"
   ]
  },
  {
   "cell_type": "markdown",
   "metadata": {
    "ctype": "question",
    "quesnum": 24
   },
   "source": [
    "# Slide 24\n",
    "```\n",
    "\n",
    "Feedbacks link stocks and flows\n",
    "Flow depends on a stock, which depends on the flow.\n",
    "A perturbation could happen to EITHER the stock or the flow. The ramifications then feed back between stock and flow.\n",
    "These are all “stabilizing” feedbacks\n",
    "Jupiter’s growth: example of amplifying feedback\n",
    "25\n",
    "\n",
    "```\n",
    "\n"
   ]
  },
  {
   "cell_type": "markdown",
   "metadata": {
    "ctype": "answer",
    "quesnum": 24
   },
   "source": [
    "q24 answer here"
   ]
  },
  {
   "cell_type": "markdown",
   "metadata": {
    "ctype": "question",
    "quesnum": 25
   },
   "source": [
    "# Slide 25\n",
    "```\n",
    "\n",
    "In your pair or 3, come up with as many amplifying feedbacks and as many stabilizing feedbacks as you can.  Not climate-related.  Make stuff up, don’t google it.\n",
    "Feedback Examples\n",
    "26\n",
    "\n",
    "```\n",
    "\n"
   ]
  },
  {
   "cell_type": "markdown",
   "metadata": {
    "ctype": "answer",
    "quesnum": 25
   },
   "source": [
    "q25 answer here"
   ]
  },
  {
   "cell_type": "markdown",
   "metadata": {
    "ctype": "question",
    "quesnum": 26
   },
   "source": [
    "# Slide 26\n",
    "```\n",
    "\n",
    "In your pair or 3, come up with at least 5 climate-related stocks.  For each, come up with as many climate-related flows as you can.\n",
    "Climate Stocks & Flows\n",
    "27\n",
    "\n",
    "```\n",
    "\n"
   ]
  },
  {
   "cell_type": "markdown",
   "metadata": {
    "ctype": "answer",
    "quesnum": 26
   },
   "source": [
    "q26 answer here"
   ]
  },
  {
   "cell_type": "markdown",
   "metadata": {
    "ctype": "question",
    "quesnum": 27
   },
   "source": [
    "# Slide 27\n",
    "```\n",
    "\n",
    "Earth’s climate system is essentially a whole bunch of interconnected stocks, flows, and feedbacks.\n",
    "The combination of inflows and outflows over time determines a stock.\n",
    "Both stocks and flows can be perturbed.  When a perturbation happens, the system responds.\n",
    "Perturbations in stocks can influence flows, which in turn can influence stocks again.\n",
    "Perturbations in flows can influence stocks, which in turn can influence flows again.\n",
    "4.   Amplifying feedbacks destabilize a system by reinforcing perturbations.  Stabilizing feedbacks counteract perturbations and help move a system toward a stable state.\n",
    "Summary\n",
    "28\n",
    "\n",
    "```\n"
   ]
  },
  {
   "cell_type": "markdown",
   "metadata": {
    "ctype": "answer",
    "quesnum": 27
   },
   "source": [
    "q27 answer here"
   ]
  }
 ],
 "metadata": {
  "jupytext": {
   "main_language": "python"
  }
 },
 "nbformat": 4,
 "nbformat_minor": 4
}
