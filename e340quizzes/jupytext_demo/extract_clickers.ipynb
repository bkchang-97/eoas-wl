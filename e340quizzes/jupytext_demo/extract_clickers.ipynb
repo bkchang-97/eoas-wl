{
 "cells": [
  {
   "cell_type": "code",
   "execution_count": 9,
   "metadata": {},
   "outputs": [],
   "source": [
    "import markdown\n",
    "from bs4 import BeautifulSoup\n",
    "html = markdown.markdown(open(\"Day02_Systems_2019t2_allslides.md\").read())\n",
    "text = (\"\".join(BeautifulSoup(html).findAll(text=True)))"
   ]
  },
  {
   "cell_type": "code",
   "execution_count": 14,
   "metadata": {},
   "outputs": [
    {
     "data": {
      "text/plain": [
       "str"
      ]
     },
     "execution_count": 14,
     "metadata": {},
     "output_type": "execute_result"
    }
   ],
   "source": [
    "type(text)"
   ]
  },
  {
   "cell_type": "code",
   "execution_count": 27,
   "metadata": {},
   "outputs": [],
   "source": [
    "slides = text.split(\"Slide \")"
   ]
  },
  {
   "cell_type": "code",
   "execution_count": 28,
   "metadata": {},
   "outputs": [
    {
     "data": {
      "text/plain": [
       "['0\\n```\\nGoals:\\nDefine stock, flow, and feedback\\nExplain how the combined history of inflows and outflows determines a stock\\nPredict what happens to stocks and flows when a system is perturbed\\nConstruct examples of both amplifying and stabilizing feedbacks.\\nSystems: Stocks, Flows,\\n& Feedbacks\\n1\\n```\\n\\n #endregion \\n',\n",
       " '1\\n```\\nClimate news\\nHurricane Dorian stalls over the Bahamas\\nHere’s what the original research looks like:\\nHall and Kossin – 2019\\nFires in Australia\\n2\\n```\\n',\n",
       " '2\\n```\\nQuestion: Why don’t we put the answers to the clicker questions up on canvas?\\n3\\n```\\n #region \\n',\n",
       " '3\\n```\\nWorksheets from Day 1: Sea ice\\nStories:  Attempts to connect these different data through various processes.  Common story: “CO2 causes T to rise, which causes sea ice to melt, which causes sea level to rise”  [one problematic link…]\\n4\\n```\\n\\n #endregion \\n #region \\n',\n",
       " '4\\n```\\nQuestions/Comments: Worksheet\\n1. Sea ice versus land ice \\n   – impact on sea level\\nhttp://commons.wikimedia.org/wiki/File:Menthaleau.jpg\\nOnce this ice melts in this glass, how will the water level be different?  Water level will be ______before.\\nhigher than\\nlower than\\nthe same as\\n5\\n```\\n\\n #endregion \\n',\n",
       " '5\\n```\\nMore on buoyancy\\nSuppose that ice was 70% as dense as water.  If you froze a block of liquid water, how much of the volume would be above the surface?\\nA) 10%\\nB) 30%\\nC) 50%\\nD) 70%\\n    E)  90%\\n6\\n```\\n',\n",
       " '6\\n```\\nQuestions/Comments: Pre-Class Quiz\\nStoichiometry practice\\nSay we have 100 gigatons of H2O.\\nHow many gigatons of O is contained within that 100 Gton H2O?\\n2\\n89\\n98\\n100\\n102\\nQuiz question involved the mass of C in CO2.\\nYou will need to be able to go back and forth between mass of C and mass of CO2 in this course.\\n7\\n```\\n #region \\n',\n",
       " '7\\n```\\nCaldeira, 2012- Pre class reading\\n“One of the greatest uncertainties in climate prediction is the amount of CO2 that will ultimately end up in the atmosphere”\\nSome text from the Dec 2015 Paris agreement:\\nEmphasizing with serious concern the urgent need to address the significant gap between the aggregate effect of Parties’ mitigation pledges in terms of global annual emissions of greenhouse gases by 2020 and aggregate emission pathways consistent with holding the increase in the global average temperature to well below 2 °C above pre-industrial levels and pursuing efforts to limit the temperature increase to 1.5 °C,\\n8\\n```\\n\\n #endregion \\n #region \\n',\n",
       " '8\\n```\\nFigure: Cronin & Gonzalez, 2007\\nWe’ll work with this plot during class.  See post-class slides for more.\\n9\\n```\\n\\n #endregion \\n #region \\n',\n",
       " '9\\n```\\nFigure: Cronin & Gonzalez, 2007\\nClicker Q: The graph below shows the numbers of people entering and leaving a store each minute. During which minute did the most people enter the store?\\nMinute 4\\nMinute 8\\nMinute 13\\nMinute 21\\nCannot be determined\\n10\\n```\\n\\n #endregion \\n #region \\n',\n",
       " '10\\n```\\nFigure: Cronin & Gonzalez, 2007\\nClicker Q: The graph below shows the numbers of people entering and leaving a store each minute. During which minute did the most people leave the store?\\nMinute 4\\nMinute 8\\nMinute 17\\nMinute 21\\nCannot be determined\\n11\\n```\\n\\n #endregion \\n #region \\n',\n",
       " '11\\n```\\nFigure: Cronin & Gonzalez, 2007\\nClicker Q: The graph below shows the numbers of people entering and leaving a store each minute. During which minute were the MOST people in the store?\\nMinute 4\\nMinute 8\\nMinute 13\\nMinute 17\\nCannot be determined\\n12\\n```\\n\\n #endregion \\n #region \\n',\n",
       " '12\\n```\\nFigure: Cronin & Gonzalez, 2007\\nClicker Q: The graph below shows the numbers of people entering and leaving a store each minute. During which minute were the FEWEST people in the store?\\nMinute 1\\nMinute 13\\nMinute 17\\nMinute 30\\nCannot be determined\\n13\\n```\\n\\n #endregion \\n',\n",
       " '13\\n```\\nSystems dynamics: Stock & Flow\\nSTOCK:  Amount or quantity of something residing in a particular place at a particular time\\napples in a basket, water in a glacier, fish in the sea, knowledge in your brain…\\nFLOW:  The rate at which stuff adds or subtracts from a stock.  Since flow is a RATE, there is always an element of TIME included.\\napples picked per hour, water melted per month, fish born per year,\\nknowledge GAINED PER 90MIN EOSC340 CLASS\\nINFLOW:  The rate at which stuff flows IN.\\nOUTFLOW:  The rate at which stuff flows OUT.\\nThe STOCK, at any moment, is the result of the COMBINED HISTORY of INFLOW and OUTFLOW\\nInflow\\nOutflow\\nSTOCK\\n14\\n```\\n',\n",
       " '14\\n```\\nSystems dynamics: Stock & Flow\\nThe RATE AT WHICH THE STOCK CHANGES, is the difference between the INFLOW & the OUTFLOW\\nIf Flowin = Flowout\\nno change in stock over time\\n\\uf0e0 EQUILIBRIUM\\nIf Flowin ≠ Flowout \\uf0e0 stock will change over time\\n15\\n```\\n',\n",
       " '15\\n```\\nStock & Flow Worksheet\\nWork in pairs or 3s.  Once you have a pair or a 3, raise your hands and we’ll get you a worksheet\\n16\\n```\\n',\n",
       " '16\\n```\\nWorksheet PROBLEM 1 clicker:\\n17\\n```\\n',\n",
       " '17\\n```\\nWorksheet PROBLEM 2 clicker:\\nWorksheet problem 2:\\nAt what minute are inflow and outflow equal?\\n0\\n1\\n2\\n18\\n```\\n',\n",
       " '18\\n```\\nWorksheet PROBLEM 2 clicker:\\n19\\n```\\n',\n",
       " '19\\n```\\nWorksheet PROBLEM 2 clicker:\\n20\\n```\\n',\n",
       " '20\\n```\\nWorksheet PROBLEM 3 clicker:\\n21\\n```\\n',\n",
       " '21\\n```\\nFEEDBACKS:  Amplifying vs Stabilizing\\nAMPLIFYING FEEDBACK: A response to a forcing that pushes the system in THE SAME direction as the forcing pushed it. E.g. if a forcing increased global temperature, an amplifying feedback would increase global temperature further, which would keep the feedback process going.\\nSTABILIZING FEEDBACK: A response to a forcing that pushes the system in THE OPPOSITE direction as the forcing pushed it. E.g. if a forcing increased global temperature, a stabilizing feedback would respond and DEcrease global temperature, which would stabilize the system (not necessarily at the original T).\\nNote: Some of you know “amplifying” feedbacks as “positive” feedbacks, and “stabilizing” feedbacks as “negative” feedbacks\\n22\\n```\\n #region \\n',\n",
       " '22\\n```\\nClicker Q:\\nAmplifying\\nStabilizing\\nNo idea\\nIs this an amplifying or stabilizing feedback?\\n23\\n```\\n\\n #endregion \\n #region \\n',\n",
       " '23\\n```\\nNow with math\\nYou have 5 gigatons of carbon and two sources, one adding 0.5 Gigatons per year and another source that is increasing every year. In other words, something like:\\n24\\nAfter 10 years how many Gtons of carbon are there?  i.e.  what is y(10)?  Pick the closest answer.\\n2 Gt\\n5 Gt\\n15 Gt\\n20 Gt\\nA little help please\\n```\\n\\n #endregion \\n',\n",
       " '24\\n```\\nFeedbacks link stocks and flows\\nFlow depends on a stock, which depends on the flow.\\nA perturbation could happen to EITHER the stock or the flow. The ramifications then feed back between stock and flow.\\nThese are all “stabilizing” feedbacks\\nJupiter’s growth: example of amplifying feedback\\n25\\n```\\n',\n",
       " '25\\n```\\nIn your pair or 3, come up with as many amplifying feedbacks and as many stabilizing feedbacks as you can.  Not climate-related.  Make stuff up, don’t google it.\\nFeedback Examples\\n26\\n```\\n',\n",
       " '26\\n```\\nIn your pair or 3, come up with at least 5 climate-related stocks.  For each, come up with as many climate-related flows as you can.\\nClimate Stocks & Flows\\n27\\n```\\n',\n",
       " '27\\n```\\nEarth’s climate system is essentially a whole bunch of interconnected stocks, flows, and feedbacks.\\nThe combination of inflows and outflows over time determines a stock.\\nBoth stocks and flows can be perturbed.  When a perturbation happens, the system responds.\\nPerturbations in stocks can influence flows, which in turn can influence stocks again.\\nPerturbations in flows can influence stocks, which in turn can influence flows again.\\n4.   Amplifying feedbacks destabilize a system by reinforcing perturbations.  Stabilizing feedbacks counteract perturbations and help move a system toward a stable state.\\nSummary\\n28\\n```']"
      ]
     },
     "execution_count": 28,
     "metadata": {},
     "output_type": "execute_result"
    }
   ],
   "source": [
    "slides[1:]"
   ]
  },
  {
   "cell_type": "code",
   "execution_count": 29,
   "metadata": {},
   "outputs": [],
   "source": [
    "clickers = [x for x in slides if \"Clicker\" in x]"
   ]
  },
  {
   "cell_type": "code",
   "execution_count": 30,
   "metadata": {},
   "outputs": [
    {
     "data": {
      "text/plain": [
       "['9\\n```\\nFigure: Cronin & Gonzalez, 2007\\nClicker Q: The graph below shows the numbers of people entering and leaving a store each minute. During which minute did the most people enter the store?\\nMinute 4\\nMinute 8\\nMinute 13\\nMinute 21\\nCannot be determined\\n10\\n```\\n\\n #endregion \\n #region \\n',\n",
       " '10\\n```\\nFigure: Cronin & Gonzalez, 2007\\nClicker Q: The graph below shows the numbers of people entering and leaving a store each minute. During which minute did the most people leave the store?\\nMinute 4\\nMinute 8\\nMinute 17\\nMinute 21\\nCannot be determined\\n11\\n```\\n\\n #endregion \\n #region \\n',\n",
       " '11\\n```\\nFigure: Cronin & Gonzalez, 2007\\nClicker Q: The graph below shows the numbers of people entering and leaving a store each minute. During which minute were the MOST people in the store?\\nMinute 4\\nMinute 8\\nMinute 13\\nMinute 17\\nCannot be determined\\n12\\n```\\n\\n #endregion \\n #region \\n',\n",
       " '12\\n```\\nFigure: Cronin & Gonzalez, 2007\\nClicker Q: The graph below shows the numbers of people entering and leaving a store each minute. During which minute were the FEWEST people in the store?\\nMinute 1\\nMinute 13\\nMinute 17\\nMinute 30\\nCannot be determined\\n13\\n```\\n\\n #endregion \\n',\n",
       " '22\\n```\\nClicker Q:\\nAmplifying\\nStabilizing\\nNo idea\\nIs this an amplifying or stabilizing feedback?\\n23\\n```\\n\\n #endregion \\n #region \\n']"
      ]
     },
     "execution_count": 30,
     "metadata": {},
     "output_type": "execute_result"
    }
   ],
   "source": [
    "clickers"
   ]
  },
  {
   "cell_type": "code",
   "execution_count": null,
   "metadata": {},
   "outputs": [],
   "source": []
  }
 ],
 "metadata": {
  "kernelspec": {
   "display_name": "Python 3",
   "language": "python",
   "name": "python3"
  },
  "language_info": {
   "codemirror_mode": {
    "name": "ipython",
    "version": 3
   },
   "file_extension": ".py",
   "mimetype": "text/x-python",
   "name": "python",
   "nbconvert_exporter": "python",
   "pygments_lexer": "ipython3",
   "version": "3.8.6"
  }
 },
 "nbformat": 4,
 "nbformat_minor": 4
}
