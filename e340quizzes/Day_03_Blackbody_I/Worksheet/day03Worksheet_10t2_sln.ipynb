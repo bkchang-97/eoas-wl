# -*- coding: utf-8 -*-
# ---
# jupyter:
#   jupytext:
#     cell_metadata_filter: -all
#     formats: ipynb,py:percent
#     notebook_metadata_filter: all,-language_info,-toc,-latex_envs
#     text_representation:
#       extension: .py
#       format_name: percent
#       format_version: '1.3'
#       jupytext_version: 1.3.1
#   kernelspec:
#     display_name: Python 3
#     language: python
#     name: python3
#   latex_metadata:
#     chead: Day 3 worksheet solution
#     lhead: E340 2019t2
# ---

# %% [raw]
# \pagestyle{headers}

# %% [markdown]
# <h1>Table of Contents<span class="tocSkip"></span></h1>
# <div class="toc"><ul class="toc-item"><li><span><a href="#Worksheet---EOSC-340---Day-3" data-toc-modified-id="Worksheet---EOSC-340---Day-3-1"><span class="toc-item-num">1&nbsp;&nbsp;</span>Worksheet - EOSC 340 - Day 3</a></span><ul class="toc-item"><li><span><a href="#Prove:-Good-absorbers-are-good-emitters" data-toc-modified-id="Prove:-Good-absorbers-are-good-emitters-1.1"><span class="toc-item-num">1.1&nbsp;&nbsp;</span>Prove: Good absorbers are good emitters</a></span></li><li><span><a href="#The-proof" data-toc-modified-id="The-proof-1.2"><span class="toc-item-num">1.2&nbsp;&nbsp;</span>The proof</a></span></li></ul></li></ul></div>

# %% [markdown]
# # Worksheet - EOSC 340 - Day 3
#
# ## Prove: Good absorbers are good emitters
#
# The two walls shown below are initially at the same temperature, though they have different emissivities as shown. Assume the transmissivity is 0 for both walls. The space between the walls is a vacuum. Recall that $\sigma$=5.67x10<sup>-8</sup>$W/m^2$/K<sup>4</sup>. Note that the right all absorbs everything that hits it (it’s a blackbody), while the left wall partially absorbs some radiation and reflects the rest.
#
# ![fig1](media/two_walls.png)
# <img src="media/two_walls.png" width="60%">
#
# On average, is there a net heat transfer between the two walls? If so, which way does it go? Provide reasoning, but **do not** do any math at this point.
#
# **The 2nd law of thermodynamics says that the temperature can’t change without some process doing work, so the net transfer has to be zero at both walls.**
#
# Do either or both of the walls change their temperature with time? If so, which becomes warmer with time, and which cools down with time?  Again, don’t do any math at this point.
#
# **No temperature change for either wall.**
#
# What is the radiative flux (in$W/m^2$) emitted by the  
# a) the right wall, and  
# b) the left wall?
#
# **Right wall: $I_{right} = \sigma T^4 =348.5 W/m^2$**
#
# **Left wall: $I_{left}=\epsilon \sigma T^4 = 0.6x348.5=209\ W/m^2$**
#
# How much flux is absorbed at the left wall, assuming Kirchoff’s law is
# true?
#
# If $abs=\epsilon$ then $abs I_{right} = \epsilon I_{right} = 209 W/m^2$
#
# ## The proof
#
# **Kirchhoff’s Law** states that *abs* = $\epsilon$. Show algebraically that this must be true at the left wall. Do not use numeric values\! Assume that the left wall can’t change temperature, so that all the arrows at the wall have to cancel out. Remember that the wall is absorbing and reflecting, but not transmitting.
#
# Since the 2nd law says temperature can’t change, that means the fluxes in and out have to balance. If we use a minus sign for outbound fluxes and plus sign for inbound fluxes, then the balance at the left wall is:
#
# \begin{equation}
# I_{emit_{R}} – I_{emit_{L}} – I_{refl_{L}}=0
# \end{equation}
#
# Also, we can use conservation of energy to write the reflectivity in terms of the absorptivity,
# since:
#
# since the wall is absorbing and reflecting, but not transmitting, we have:
#
# \begin{equation}
# I_{refl_{L}} = (1 – abs)I_{emit_{R}}
# \end{equation}
#
# Filling in the rest of the values we can rewrite the equation (1) and divide out $\sigma T^4$:
#
# \begin{align}
# 0 = & I_{emit_{R}}-\epsilon \sigma T^{4}-(1-{abs}) I_{emit_{R}}\\
# 0=&\sigma T^{4}-\epsilon \sigma T^{4}-(1-abs) \sigma T^{4}\\
# 0=& 1-\epsilon-(1-abs)\\
#  \epsilon =& abs\\
# \end{align}

# %% [markdown]
# Where we’ve used the fact that both walls have to be at temperature T and the right wall is black, so that $I_{emit_{R}} = \sigma T^4$.  Making that subsitution we can make this tranformation:

# %%
